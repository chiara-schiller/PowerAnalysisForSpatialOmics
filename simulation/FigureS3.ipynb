{
 "cells": [
  {
   "cell_type": "code",
   "execution_count": 13,
   "metadata": {},
   "outputs": [],
   "source": [
    "import pandas as pd\n",
    "import numpy as np\n",
    "import matplotlib.pyplot as plt\n",
    "import seaborn as sns\n",
    "import networkx as nx\n",
    "from scipy.stats import beta\n",
    "import matplotlib.pyplot as plt\n",
    "from scipy.stats import betabinom, binom\n",
    "np.random.seed(512)"
   ]
  },
  {
   "cell_type": "code",
   "execution_count": 3,
   "metadata": {},
   "outputs": [],
   "source": [
    "def build_assignment_matrix(attribute_dict, n_cell_types):\n",
    "    data = list(attribute_dict.items())\n",
    "    data = np.array(data)  # Assignment matrix\n",
    "\n",
    "    B = np.zeros((data.shape[0], n_cell_types))  # Empty matrix\n",
    "\n",
    "    for i in range(0, data.shape[0]):\n",
    "        t = int(data[i, 1])\n",
    "        B[i, t] = 1\n",
    "\n",
    "    return B\n",
    "\n",
    "def calculate_FOV_size(sampling_frac, min_x, max_x, min_y, max_y):\n",
    "    area = (max_x - min_x) * (max_y - min_y)\n",
    "    sampling_area = sampling_frac * area\n",
    "    FOV_dim = np.round(np.sqrt(sampling_area))\n",
    "    return FOV_dim\n",
    "\n",
    "def random_FOV(FOV_dim, df, min_x, max_x, min_y, max_y):\n",
    "    x_start = np.random.randint(min_x, max_x - FOV_dim)\n",
    "    y_start = np.random.randint(min_y, max_y - FOV_dim)\n",
    "    \n",
    "    x_filtered = df[(df['segment_px_x'] > x_start) & (df['segment_px_x'] < x_start + FOV_dim)]\n",
    "    random_FOV = x_filtered[(x_filtered['segment_px_y'] > y_start) & (x_filtered['segment_px_y'] < y_start + FOV_dim)]\n",
    "    \n",
    "    return random_FOV\n",
    "\n",
    "def calculate_p_in_fov(fov, n_cell_types):\n",
    "    types_in_fov = fov['cell_type_id'].astype(int).tolist()\n",
    "    #print(types_in_fov)\n",
    "    attribute_dict = dict(zip(fov.index, types_in_fov))\n",
    "    B = build_assignment_matrix(attribute_dict, n_cell_types)\n",
    "    return np.divide(np.sum(B, axis=0), B.shape[0])\n",
    "\n",
    "def estimate_beta_from_FOV(df, fov_dim, type_of_interest, n_fov, x_min, x_max, y_min, y_max, n_cell_types):\n",
    "    p_list = []\n",
    "    i = 0\n",
    "    ns = []\n",
    "    while i < n_fov:\n",
    "        fov = random_FOV(fov_dim, df, x_min, x_max, y_min, y_max)\n",
    "        if len(fov) > 5:\n",
    "            # because we don't define the boundary of the TISSUE just the boundary of the image\n",
    "            # you could draw an fov out of tissue bounds but in the enclosing rectangle\n",
    "            p_list.append(calculate_p_in_fov(fov, n_cell_types))\n",
    "            ns.append(len(fov))\n",
    "            i += 1\n",
    "        else:\n",
    "            continue\n",
    "    print(ns)\n",
    "    sample_proportions = np.vstack(p_list)\n",
    "    props_of_interest = sample_proportions[:, type_of_interest]\n",
    "    \n",
    "    sample_mean = np.mean(props_of_interest)\n",
    "    sample_var = np.var(props_of_interest)\n",
    "    \n",
    "    #print()\n",
    "    alpha_hat = sample_mean * (((sample_mean*(1-sample_mean))/sample_var) - 1)\n",
    "    beta_hat = (1 - sample_mean) * (((sample_mean*(1-sample_mean))/sample_var) - 1)\n",
    "\n",
    "    return alpha_hat, beta_hat, props_of_interest, ns\n",
    "\n",
    "def estimate_beta_from_FOV_ds(df, fov_dim, type_of_interest, n_fov, x_min, x_max, y_min, y_max, \n",
    "                           n_cell_types, target_size):\n",
    "    p_list = []\n",
    "    i = 0\n",
    "    ns = []\n",
    "    while i < n_fov:\n",
    "        fov = random_FOV(fov_dim, df, x_min, x_max, y_min, y_max)\n",
    "        if len(fov) == target_size:\n",
    "            # because we don't define the boundary of the TISSUE just the boundary of the image\n",
    "            # you could draw an fov out of tissue bounds but in the enclosing rectangle\n",
    "            p_list.append(calculate_p_in_fov(fov, n_cell_types))\n",
    "            ns.append(len(fov))\n",
    "            i += 1\n",
    "        elif len(fov) > target_size:\n",
    "            #n_to_remove = len(fov) - target_size\n",
    "            fov = fov.sample(n=target_size, replace=False)\n",
    "            p_list.append(calculate_p_in_fov(fov, n_cell_types))\n",
    "            ns.append(len(fov))\n",
    "            i += 1\n",
    "        else:\n",
    "            continue\n",
    "    #print(ns)\n",
    "    sample_proportions = np.vstack(p_list)\n",
    "    props_of_interest = sample_proportions[:, type_of_interest]\n",
    "    \n",
    "    sample_mean = np.mean(props_of_interest)\n",
    "    sample_var = np.var(props_of_interest)\n",
    "    \n",
    "    #print()\n",
    "    alpha_hat = sample_mean * (((sample_mean*(1-sample_mean))/sample_var) - 1)\n",
    "    beta_hat = (1 - sample_mean) * (((sample_mean*(1-sample_mean))/sample_var) - 1)\n",
    "\n",
    "    return alpha_hat, beta_hat, props_of_interest\n",
    "\n",
    "def p_fov_with_rarest(a, b, m, N):\n",
    "    return 1 - np.power((BF(a, b + m)/BF(a, b)), N)\n",
    "\n",
    "def fov_cell_counts(df, fov_dim, toi, n_fov, x_min, x_max, y_min, y_max, n_cell_types, ret_n = False):\n",
    "    \n",
    "    p_list = []\n",
    "    i = 0\n",
    "    ns = []\n",
    "    while i < n_fov:\n",
    "        fov = random_FOV(fov_dim, df, x_min, x_max, y_min, y_max)\n",
    "        if len(fov) > 10:\n",
    "            types_in_fov = fov['cell_type_id'].astype(int).tolist()\n",
    "            #print(types_in_fov)\n",
    "            attribute_dict = dict(zip(fov.index, types_in_fov))\n",
    "            B = build_assignment_matrix(attribute_dict, n_cell_types)\n",
    "            p_list.append(np.sum(B, axis=0))\n",
    "            ns.append(len(fov))\n",
    "            i += 1\n",
    "        else:\n",
    "            continue\n",
    "        \n",
    "    sample_counts = np.vstack(p_list)\n",
    "    \n",
    "    if ret_n == True:\n",
    "        return sample_counts[:, toi].astype(int), np.sum(sample_counts, axis=1).astype(int)\n",
    "    else:\n",
    "        return sample_counts[:, toi].astype(int)\n",
    "    \n",
    "def convert_params(m, k):\n",
    "    \"\"\" \n",
    "    Convert mean/dispersion parameterization of a negative binomial to the ones scipy supports\n",
    "\n",
    "    Parameters\n",
    "    ----------\n",
    "    m : float \n",
    "       Mean\n",
    "    k : float\n",
    "       Overdispersion parameter. \n",
    "    \"\"\"\n",
    "    k = 1/k\n",
    "    var = m + k * m ** 2\n",
    "    p = (var - m) / var\n",
    "    r = m ** 2 / (var - m)\n",
    "    return r, 1-p\n",
    "\n",
    "def get_type_from_B(cell_id, B):\n",
    "    idx,  = np.where(B[cell_id])\n",
    "    cell_type = idx[0]\n",
    "    return cell_type"
   ]
  },
  {
   "cell_type": "code",
   "execution_count": 4,
   "metadata": {},
   "outputs": [],
   "source": [
    "A = np.load('./results/sample_adjmat_20200601.npy')\n",
    "C = np.load('./results/sample_positions_20200601.npy')"
   ]
  },
  {
   "cell_type": "code",
   "execution_count": 7,
   "metadata": {},
   "outputs": [],
   "source": [
    "\n",
    "\n",
    "#Load data and do calcs\n",
    "B = np.load('./results/rarecell_optimized_B.npy')\n",
    "for i in range(0, B.shape[0]):\n",
    "    l, = np.where(B[i,:])\n",
    "    if len(l) > 1:\n",
    "        #Randomly assign from the equally likely possibilities\n",
    "        to_zero = np.random.choice(l, len(l)-1, replace=False)\n",
    "        for j in to_zero:\n",
    "            B[i, j] = 0\n",
    "            \n",
    "type_col = [get_type_from_B(i, B) for i in range(0, A.shape[0])]\n",
    "df = pd.DataFrame(np.hstack((C, np.array(type_col).reshape(len(type_col),1).astype(int))),columns=['segment_px_x', 'segment_px_y', 'cell_type_id'])\n",
    "\n",
    "toi = 0\n",
    "n_fov = 10\n",
    "n_cell_types = 4\n",
    "x_min = min(df['segment_px_x'])\n",
    "x_max = max(df['segment_px_x'])\n",
    "y_min = min(df['segment_px_y'])\n",
    "y_max = max(df['segment_px_y'])\n",
    "\n",
    "fov_size_05r = calculate_FOV_size(0.01, x_min, x_max, y_min, y_max)\n",
    "fov_size_1r = calculate_FOV_size(0.01, x_min, x_max, y_min, y_max)\n",
    "fov_size_5r = calculate_FOV_size(0.05, x_min, x_max, y_min, y_max)\n",
    "fov_size_10r = calculate_FOV_size(0.1, x_min, x_max, y_min, y_max)\n",
    "\n",
    "\n",
    "n_toi_observed, ns = fov_cell_counts(df, fov_size_5r, toi, n_fov, x_min, x_max, y_min, y_max, n_cell_types, ret_n=True)\n",
    "props_of_interest = np.divide(n_toi_observed, ns)\n",
    "sample_mean = np.mean(props_of_interest)\n",
    "sample_var = np.var(props_of_interest)\n",
    "alpha_hat_rare = sample_mean * (((sample_mean*(1-sample_mean))/sample_var) - 1)\n",
    "beta_hat_rare = (1 - sample_mean) * (((sample_mean*(1-sample_mean))/sample_var) - 1)\n",
    "\n",
    "B = np.load('./results/negcontrol_optimized_B.npy')\n",
    "for i in range(0, B.shape[0]):\n",
    "    l, = np.where(B[i,:])\n",
    "    if len(l) > 1:\n",
    "        #Randomly assign from the equally likely possibilities\n",
    "        to_zero = np.random.choice(l, len(l)-1, replace=False)\n",
    "        for j in to_zero:\n",
    "            B[i, j] = 0\n",
    "type_col = [get_type_from_B(i, B) for i in range(0, A.shape[0])]\n",
    "df = pd.DataFrame(np.hstack((C, np.array(type_col).reshape(len(type_col),1).astype(int))),columns=['segment_px_x', 'segment_px_y', 'cell_type_id'])\n",
    "n_toi_observed, ns = fov_cell_counts(df, fov_size_5r, toi, n_fov, x_min, x_max, y_min, y_max, n_cell_types, ret_n=True)\n",
    "props_of_interest = np.divide(n_toi_observed, ns)\n",
    "sample_mean = np.mean(props_of_interest)\n",
    "sample_var = np.var(props_of_interest)\n",
    "alpha_hat_neg = sample_mean * (((sample_mean*(1-sample_mean))/sample_var) - 1)\n",
    "beta_hat_neg = (1 - sample_mean) * (((sample_mean*(1-sample_mean))/sample_var) - 1)\n",
    "\n",
    "B = np.load('./results/self_preference_B_regionheuristic_06082020.npy')\n",
    "for i in range(0, B.shape[0]):\n",
    "    l, = np.where(B[i,:])\n",
    "    if len(l) > 1:\n",
    "        #Randomly assign from the equally likely possibilities\n",
    "        to_zero = np.random.choice(l, len(l)-1, replace=False)\n",
    "        for j in to_zero:\n",
    "            B[i, j] = 0\n",
    "\n",
    "n_toi_observed, ns = fov_cell_counts(df, fov_size_5r, toi, n_fov, x_min, x_max, y_min, y_max, n_cell_types, ret_n=True)\n",
    "props_of_interest = np.divide(n_toi_observed, ns)\n",
    "sample_mean = np.mean(props_of_interest)\n",
    "sample_var = np.var(props_of_interest)\n",
    "alpha_hat_sp = sample_mean * (((sample_mean*(1-sample_mean))/sample_var) - 1)\n",
    "beta_hat_sp = (1 - sample_mean) * (((sample_mean*(1-sample_mean))/sample_var) - 1)\n",
    "\n"
   ]
  },
  {
   "cell_type": "code",
   "execution_count": 16,
   "metadata": {},
   "outputs": [
    {
     "data": {
      "text/plain": [
       "<Figure size 432x288 with 0 Axes>"
      ]
     },
     "metadata": {},
     "output_type": "display_data"
    },
    {
     "data": {
      "image/png": "[encoded data removed]",
      "text/plain": [
       "<Figure size 432x288 with 1 Axes>"
      ]
     },
     "metadata": {},
     "output_type": "display_data"
    }
   ],
   "source": [
    "import matplotlib\n",
    "from matplotlib import cm, colors\n",
    "import matplotlib.pyplot as plt\n",
    "\n",
    "matplotlib.rcParams.update({'axes.linewidth': 0.25,\n",
    "                            'xtick.major.size': 2,\n",
    "                            'xtick.major.width': 0.25,\n",
    "                            'ytick.major.size': 2,\n",
    "                            'ytick.major.width': 0.25,\n",
    "                            'pdf.fonttype': 42,\n",
    "                            'font.sans-serif': 'Arial'})\n",
    "\n",
    "plt.clf()\n",
    "sns.set_style(\"white\")\n",
    "sns.set_palette(\"colorblind\")\n",
    "fig, ax = plt.subplots(1, 1)\n",
    "x = np.arange(0, 100)\n",
    "\n",
    "ax.plot(x, betabinom.sf(0, x, alpha_hat_rare, beta_hat_rare), lw = 1, label=r\"p ~= 0.03 (rare cell)\", alpha = 0.9, c = 'b')\n",
    "ax.plot(x, betabinom.sf(0, x, alpha_hat_sp, beta_hat_sp), lw = 1, label=r\"p ~= 0.19 (self pref)\", alpha = 0.9)\n",
    "ax.plot(x, betabinom.sf(0, x, alpha_hat_neg, beta_hat_neg), lw = 1, label=r\"p ~= 0.22 (random)\", alpha = 0.9)\n",
    "\n",
    "ax.set_xlabel(r'N_cells')\n",
    "ax.set_ylabel(r'Probability of discovering rarest cell')\n",
    "ax.set_ylim(0,1.05)\n",
    "plt.legend()\n",
    "#plt.savefig('./spleen_data/figures/FigureS3A.pdf')\n",
    "plt.show()"
   ]
  },
  {
   "cell_type": "code",
   "execution_count": 24,
   "metadata": {},
   "outputs": [
    {
     "data": {
      "text/plain": [
       "<Figure size 432x288 with 0 Axes>"
      ]
     },
     "metadata": {},
     "output_type": "display_data"
    },
    {
     "data": {
      "image/png": "[encoded data removed]",
      "text/plain": [
       "<Figure size 432x288 with 1 Axes>"
      ]
     },
     "metadata": {},
     "output_type": "display_data"
    }
   ],
   "source": [
    "matplotlib.rcParams.update({'axes.linewidth': 0.25,\n",
    "                            'xtick.major.size': 2,\n",
    "                            'xtick.major.width': 0.25,\n",
    "                            'ytick.major.size': 2,\n",
    "                            'ytick.major.width': 0.25,\n",
    "                            'pdf.fonttype': 42,\n",
    "                            'font.sans-serif': 'Arial'})\n",
    "\n",
    "plt.clf()\n",
    "sns.set_style(\"white\")\n",
    "sns.set_palette(\"colorblind\")\n",
    "fig, ax = plt.subplots(1, 1)\n",
    "x = np.arange(0, 100)\n",
    "\n",
    "ax.plot(x, betabinom.sf(0, x, alpha_hat_rare, beta_hat_rare), lw = 1, label=r\"p ~= 0.03 (rare cell, spatial sampling)\", alpha = 0.9, c = 'g')\n",
    "ax.plot(x, binom.sf(0, x, 0.03), lw = 1, linestyle='dashed', c='g', label=r\"p ~= 0.03 (rare cell, random sampling)\", alpha = 0.9)\n",
    "ax.plot(x, betabinom.sf(0, x, alpha_hat_sp, beta_hat_sp), lw = 1, label=r\"p ~= 0.19 (self pref, spatial sampling)\", alpha = 0.9, c='b')\n",
    "ax.plot(x, binom.sf(0, x, 0.19), lw = 1, label=r\"p ~= 0.19 (self pref, random sampling)\", alpha = 0.9, c='b', linestyle='dashed')\n",
    "ax.plot(x, betabinom.sf(0, x, alpha_hat_neg, beta_hat_neg), lw = 1, label=r\"p ~= 0.22 (random, spatial sampling)\", alpha = 0.9, c='k')\n",
    "ax.plot(x, binom.sf(0, x, 0.22), lw = 1, label=r\"p ~= 0.22 (random, random sampling)\", alpha = 0.9, c='k', linestyle='dashed')\n",
    "plt.legend()\n",
    "plt.show()\n"
   ]
  },
  {
   "cell_type": "markdown",
   "metadata": {},
   "source": [
    "## S3B"
   ]
  },
  {
   "cell_type": "code",
   "execution_count": 67,
   "metadata": {},
   "outputs": [],
   "source": [
    "from scipy.optimize import fsolve\n",
    "from scipy.stats import nbinom"
   ]
  },
  {
   "cell_type": "code",
   "execution_count": 117,
   "metadata": {},
   "outputs": [],
   "source": [
    "def p_discovery_in_n_fov(p0, n):\n",
    "        return 1 - np.power(p0, n)\n",
    "    \n",
    "def do_model_trials(df, fov_size, toi, n_cell_types, n_fov, n_trials, guess):\n",
    "    \n",
    "    x_min = min(df['segment_px_x'])\n",
    "    x_max = max(df['segment_px_x'])\n",
    "    y_min = min(df['segment_px_y'])\n",
    "    y_max = max(df['segment_px_y'])\n",
    "\n",
    "    trial_counter = 0\n",
    "    \n",
    "    def f2(k, p0, m):\n",
    "            return np.power((m/k + 1), -k) - p0\n",
    "    ns = np.arange(0,10)\n",
    "    while trial_counter < n_trials:\n",
    "        n_toi_observed = fov_cell_counts(df, fov_size, toi, n_fov, x_min, x_max, y_min, y_max, n_cell_types)\n",
    "        values, counts = np.unique(n_toi_observed, return_counts=True)\n",
    "        v = np.arange(0, max(values) + 1)\n",
    "        val_count = dict(zip(values, counts))\n",
    "        c = np.array([val_count[i] if i in values else 0 for i in v])\n",
    "        \n",
    "        #Parameter estimation with ZTM method\n",
    "        n0 = c[0]\n",
    "        N = np.sum(c)\n",
    "        p0 = n0/N\n",
    "        m = np.mean(n_toi_observed)\n",
    "        k = fsolve(f2, x0=guess, args=(p0, m))\n",
    "        r, p = convert_params(m, k[0])\n",
    "        \n",
    "        x = np.arange(0, 60)\n",
    "        if trial_counter == 0:\n",
    "            res = nbinom.pmf(x, r, p)\n",
    "            fov = p_discovery_in_n_fov(p0, ns)\n",
    "        else:\n",
    "            res = np.vstack((res, nbinom.pmf(x, r, p)))\n",
    "            fov = np.vstack((fov, p_discovery_in_n_fov(p0, ns)))\n",
    "        trial_counter += 1 \n",
    "    \n",
    "    \n",
    "    return res, fov\n",
    "\n",
    "def calc_errs(arr, ci=0.95):\n",
    "    means = np.mean(arr, axis = 0)\n",
    "    std = np.std(arr, axis = 0)\n",
    "    ci = stats.norm.ppf(0.95) * (std/np.sqrt(arr.shape[0]))\n",
    "    return means, ci\n",
    "\n"
   ]
  },
  {
   "cell_type": "code",
   "execution_count": 98,
   "metadata": {},
   "outputs": [],
   "source": [
    "B = np.load('./results/rarecell_optimized_B.npy')\n",
    "for i in range(0, B.shape[0]):\n",
    "    l, = np.where(B[i,:])\n",
    "    if len(l) > 1:\n",
    "        #Randomly assign from the equally likely possibilities\n",
    "        to_zero = np.random.choice(l, len(l)-1, replace=False)\n",
    "        for j in to_zero:\n",
    "            B[i, j] = 0\n",
    "            \n",
    "type_col = [get_type_from_B(i, B) for i in range(0, A.shape[0])]\n",
    "df = pd.DataFrame(np.hstack((C, np.array(type_col).reshape(len(type_col),1).astype(int))),columns=['segment_px_x', 'segment_px_y', 'cell_type_id'])\n",
    "n_toi_observed, ns = fov_cell_counts(df, fov_size_5r, toi, n_fov, x_min, x_max, y_min, y_max, n_cell_types, ret_n=True)"
   ]
  },
  {
   "cell_type": "code",
   "execution_count": null,
   "metadata": {
    "scrolled": true
   },
   "outputs": [],
   "source": [
    "toi = 0\n",
    "n_fov = 20\n",
    "res_1r, fov_1r = do_model_trials(df, fov_size=fov_size_1r, toi=toi, n_cell_types=n_cell_types, n_fov=n_fov, n_trials = 100,guess = 0.9)\n",
    "res_5r, fov_5r = do_model_trials(df, fov_size=fov_size_5r, toi=toi, n_cell_types=n_cell_types, n_fov=n_fov, n_trials = 100, guess = 20)\n",
    "res_10r, fov_10r = do_model_trials(df, fov_size=fov_size_10r, toi=toi, n_cell_types=n_cell_types, n_fov=n_fov, n_trials = 100, guess = 500 )\n",
    "res_05r, fov_05r = do_model_trials(df, fov_size=fov_size_05r, toi=toi, n_cell_types=n_cell_types, n_fov=n_fov, n_trials = 100, guess = 0.2)\n"
   ]
  },
  {
   "cell_type": "code",
   "execution_count": 127,
   "metadata": {},
   "outputs": [
    {
     "data": {
      "image/png": "[encoded data removed]",
      "text/plain": [
       "<Figure size 432x288 with 1 Axes>"
      ]
     },
     "metadata": {},
     "output_type": "display_data"
    }
   ],
   "source": [
    "from scipy import stats\n",
    "import matplotlib\n",
    "from matplotlib import cm, colors\n",
    "import matplotlib.pyplot as plt\n",
    "\n",
    "ns = np.arange(0,10)\n",
    "matplotlib.rcParams.update({'axes.linewidth': 0.25,\n",
    "                            'xtick.major.size': 2,\n",
    "                            'xtick.major.width': 0.25,\n",
    "                            'ytick.major.size': 2,\n",
    "                            'ytick.major.width': 0.25,\n",
    "                            'pdf.fonttype': 42,\n",
    "                            'font.sans-serif': 'Arial'})\n",
    "\n",
    "labels = ['0.5% FOV, osmFISH', '1% FOV', '5% FOV', '10% FOV',\n",
    "          '0.5% FOV, IST', '1% FOV, IST', '5% FOV, IST', '10% FOV, IST']\n",
    "arrs = [fov_05r, fov_1r, fov_5r, fov_10r]\n",
    "sns.set_style('whitegrid')\n",
    "sns.set_palette('colorblind')\n",
    "for i in range(1, len(arrs)):\n",
    "    mean, ci = calc_errs(arrs[i], ci=0.95)\n",
    "    plt.errorbar(ns, mean, yerr=ci, label=str(labels[i]), capsize=4)\n",
    "\n",
    "    _ = plt.xticks(ticks=ns)\n",
    "    plt.xlabel(r'N FOV')\n",
    "    plt.ylabel(r'Probability of discovery')\n",
    "    plt.legend()\n",
    "    #plt.tight_layout()\n",
    "    #plt.savefig('../fig/nFOVs_cell'+str(toi)+'discovery_ci95.pdf')\n",
    "\n",
    "plt.savefig('./spleen_data/figures/FigureS3B.pdf')"
   ]
  },
  {
   "cell_type": "markdown",
   "metadata": {},
   "source": []
  },
  {
   "cell_type": "code",
   "execution_count": 103,
   "metadata": {},
   "outputs": [
    {
     "data": {
      "text/plain": [
       "array([110,  90,  98, 100, 112,  96, 102, 103,  96, 108, 115,  98,  98,\n",
       "       112, 107,  92,  98, 114, 122, 110])"
      ]
     },
     "execution_count": 103,
     "metadata": {},
     "output_type": "execute_result"
    }
   ],
   "source": [
    "ns"
   ]
  },
  {
   "cell_type": "code",
   "execution_count": 121,
   "metadata": {},
   "outputs": [
    {
     "data": {
      "text/plain": [
       "'ks = np.linspace(1e-9, 5)\\nplt.plot(ks, f2(ks, p0, m))'"
      ]
     },
     "execution_count": 121,
     "metadata": {},
     "output_type": "execute_result"
    },
    {
     "data": {
      "image/png": "[encoded data removed]",
      "text/plain": [
       "<Figure size 432x288 with 1 Axes>"
      ]
     },
     "metadata": {},
     "output_type": "display_data"
    }
   ],
   "source": [
    "def f2(k, p0, m):\n",
    "            return np.power((m/k + 1), -k) - p0\n",
    "    \n",
    "n_toi_observed,ns = fov_cell_counts(df, fov_size_05r, toi, n_fov, x_min, x_max, y_min, y_max, n_cell_types, ret_n=True)\n",
    "values, counts = np.unique(n_toi_observed, return_counts=True)\n",
    "v = np.arange(0, max(values) + 1)\n",
    "val_count = dict(zip(values, counts))\n",
    "c = np.array([val_count[i] if i in values else 0 for i in v])\n",
    "'''plt.bar(v, c, color='g')\n",
    "_ = plt.xticks(ticks=v)'''\n",
    "\n",
    "n0 = c[0]\n",
    "N = np.sum(c)\n",
    "p0 = n0/N\n",
    "m = np.mean(n_toi_observed)\n",
    "\n",
    "ks = np.linspace(1e-9, 1)\n",
    "plt.plot(ks, f2(ks, p0, m))\n",
    "\n",
    "'''ks = np.linspace(1e-9, 5)\n",
    "plt.plot(ks, f2(ks, p0, m))'''"
   ]
  },
  {
   "cell_type": "code",
   "execution_count": null,
   "metadata": {},
   "outputs": [],
   "source": []
  }
 ],
 "metadata": {
  "kernelspec": {
   "display_name": "Python 3",
   "language": "python",
   "name": "python3"
  },
  "language_info": {
   "codemirror_mode": {
    "name": "ipython",
    "version": 3
   },
   "file_extension": ".py",
   "mimetype": "text/x-python",
   "name": "python",
   "nbconvert_exporter": "python",
   "pygments_lexer": "ipython3",
   "version": "3.8.10"
  }
 },
 "nbformat": 4,
 "nbformat_minor": 4
}
