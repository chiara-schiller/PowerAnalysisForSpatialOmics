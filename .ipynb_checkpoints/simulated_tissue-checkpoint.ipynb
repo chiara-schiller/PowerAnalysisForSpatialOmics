{
 "cells": [
  {
   "cell_type": "code",
   "execution_count": 13,
   "metadata": {},
   "outputs": [],
   "source": [
    "import numpy as np\n",
    "import spatialpower.tissue_generation.assign_labels as assign_labels\n",
    "import spatialpower.tissue_generation.visualization as viz\n",
    "import spatialpower.neighborhoods.permutationtest as perm_test\n",
    "\n",
    "import networkx as nx "
   ]
  },
  {
   "cell_type": "code",
   "execution_count": null,
   "metadata": {},
   "outputs": [],
   "source": [
    "%%bash \n",
    "\n",
    "python spatialpower/tissue_generation/random_circle_packing.py -x 1000 -y 1000 -o sample_results \n",
    "\n",
    "# see python spatialpower/tissue_generation/random_circle_packing.py --help for full options"
   ]
  },
  {
   "cell_type": "markdown",
   "metadata": {},
   "source": [
    "### Load circle packings"
   ]
  },
  {
   "cell_type": "code",
   "execution_count": 2,
   "metadata": {},
   "outputs": [],
   "source": [
    "A = np.load('./sample_results/A.npy')\n",
    "C =  np.load('./sample_results/C.npy')"
   ]
  },
  {
   "cell_type": "markdown",
   "metadata": {},
   "source": [
    "### Set parameters"
   ]
  },
  {
   "cell_type": "code",
   "execution_count": 3,
   "metadata": {},
   "outputs": [],
   "source": [
    "cell_type_probabilities = np.array([0.7, 0.1, 0.1, 0.1])\n",
    "\n",
    "\n",
    "neighborhood_probabilities = np.array(([0.60, 0.13, 0.13, 0.14],\n",
    "                                        [0.13, 0.29, 0.29, 0.29],\n",
    "                                        [0.13, 0.29, 0.29, 0.29],\n",
    "                                        [0.14, 0.29, 0.29, 0.28]))\n"
   ]
  },
  {
   "cell_type": "markdown",
   "metadata": {},
   "source": [
    "### Optimized Assignment\n",
    "\n",
    "Estimated runtime ~15 mins with no GPU"
   ]
  },
  {
   "cell_type": "code",
   "execution_count": 6,
   "metadata": {},
   "outputs": [
    {
     "name": "stdout",
     "output_type": "stream",
     "text": [
      "102669.56\n",
      "95909.34\n",
      "89673.34\n",
      "83920.75\n",
      "constraint  160566.34\n",
      "26444.54\n",
      "26393.512\n",
      "26347.734\n",
      "26306.64\n",
      "constraint  24031.094\n",
      "44861.234\n",
      "44855.277\n",
      "44849.32\n",
      "44843.383\n",
      "constraint  23362.074\n",
      "79455.195\n",
      "79438.9\n",
      "79422.61\n",
      "79406.33\n",
      "constraint  23038.674\n",
      "143482.14\n",
      "143433.55\n",
      "143385.02\n",
      "143336.45\n",
      "constraint  22516.639\n",
      "261517.2\n",
      "261361.42\n",
      "261205.9\n",
      "261050.56\n",
      "constraint  21655.24\n",
      "473353.47\n",
      "472833.53\n",
      "472314.44\n",
      "471795.8\n",
      "constraint  20221.168\n",
      "827157.25\n",
      "825413.06\n",
      "823671.2\n",
      "821932.44\n",
      "constraint  17873.21\n",
      "1320851.0\n",
      "1315265.9\n",
      "1309698.6\n",
      "1304151.9\n",
      "constraint  14255.502\n",
      "1705477.9\n",
      "1690085.6\n",
      "1674816.8\n",
      "1659676.5\n",
      "constraint  9479.71\n"
     ]
    }
   ],
   "source": [
    "cell_assignments = assign_labels.optimize(A, cell_type_probabilities, neighborhood_probabilities, learning_rate=1e-5, iterations = 10)"
   ]
  },
  {
   "cell_type": "code",
   "execution_count": 7,
   "metadata": {},
   "outputs": [],
   "source": [
    "def build_assignment_matrix(attribute_dict, n_cell_types):\n",
    "    data = list(attribute_dict.items())\n",
    "    data = np.array(data) # Assignment matrix\n",
    "    \n",
    "    B = np.zeros((data.shape[0],n_cell_types)) # Empty matrix\n",
    "    \n",
    "    for i in range(0, data.shape[0]):\n",
    "        t = data[i,1]\n",
    "        B[i,t] = 1\n",
    "    \n",
    "    return B "
   ]
  },
  {
   "cell_type": "code",
   "execution_count": 10,
   "metadata": {},
   "outputs": [],
   "source": [
    "B = cell_assignments.copy()"
   ]
  },
  {
   "cell_type": "markdown",
   "metadata": {},
   "source": [
    "### Actual results"
   ]
  },
  {
   "cell_type": "code",
   "execution_count": 11,
   "metadata": {},
   "outputs": [
    {
     "data": {
      "text/plain": [
       "array([[0.50926333, 0.16338761, 0.16514334, 0.1644108 ],\n",
       "       [0.51014847, 0.14834161, 0.15325385, 0.16741487],\n",
       "       [0.51030556, 0.15429666, 0.16309762, 0.16614074],\n",
       "       [0.49062609, 0.16007809, 0.16183156, 0.17577564]])"
      ]
     },
     "execution_count": 11,
     "metadata": {},
     "output_type": "execute_result"
    }
   ],
   "source": [
    "perm_test.calculate_neighborhood_distribution(A, B)"
   ]
  },
  {
   "cell_type": "code",
   "execution_count": 12,
   "metadata": {},
   "outputs": [
    {
     "data": {
      "text/plain": [
       "array([0.51183653, 0.16371792, 0.16022925, 0.1642163 ])"
      ]
     },
     "execution_count": 12,
     "metadata": {},
     "output_type": "execute_result"
    }
   ],
   "source": [
    "np.divide(np.sum(B, axis=0), np.sum(B))"
   ]
  },
  {
   "cell_type": "code",
   "execution_count": 14,
   "metadata": {},
   "outputs": [],
   "source": [
    "position_dict = dict()\n",
    "for i in range(0, C.shape[0]):\n",
    "    position_dict[i] = C[i, :]"
   ]
  },
  {
   "cell_type": "markdown",
   "metadata": {},
   "source": [
    "### Create visualization of tissue"
   ]
  },
  {
   "cell_type": "code",
   "execution_count": 17,
   "metadata": {},
   "outputs": [],
   "source": [
    "viz.make_vor(1000, np.argmax(cell_assignments, axis=1), position_dict, 4, './sample_results/', 'test', [x for x in range(0, C.shape[0])])"
   ]
  },
  {
   "cell_type": "markdown",
   "metadata": {},
   "source": [
    "### Heuristic assignment\n",
    "\n",
    "Estimated runtime ~30s"
   ]
  },
  {
   "cell_type": "code",
   "execution_count": 18,
   "metadata": {},
   "outputs": [],
   "source": [
    "graph = nx.from_numpy_array(A)\n",
    "\n",
    "cell_assignments = assign_labels.heuristic_assignment(graph, cell_type_probabilities, neighborhood_probabilities, mode='graph', dim=1000, position_dict=position_dict, grid_size=50, revision_iters=100, n_swaps=25)"
   ]
  },
  {
   "cell_type": "code",
   "execution_count": 20,
   "metadata": {},
   "outputs": [],
   "source": [
    "B = build_assignment_matrix(cell_assignments, n_cell_types=4)"
   ]
  },
  {
   "cell_type": "markdown",
   "metadata": {},
   "source": [
    "### observed results\n"
   ]
  },
  {
   "cell_type": "code",
   "execution_count": 21,
   "metadata": {},
   "outputs": [
    {
     "data": {
      "text/plain": [
       "array([[0.56692352, 0.14563081, 0.13742473, 0.15002095],\n",
       "       [0.44158258, 0.19238652, 0.18695437, 0.17907653],\n",
       "       [0.43342818, 0.19954317, 0.17421409, 0.19281456],\n",
       "       [0.44527197, 0.18153189, 0.17959374, 0.1936024 ]])"
      ]
     },
     "execution_count": 21,
     "metadata": {},
     "output_type": "execute_result"
    }
   ],
   "source": [
    "perm_test.calculate_neighborhood_distribution(A, B)"
   ]
  },
  {
   "cell_type": "code",
   "execution_count": 22,
   "metadata": {},
   "outputs": [
    {
     "data": {
      "text/plain": [
       "array([0.51264542, 0.16590794, 0.15553869, 0.16590794])"
      ]
     },
     "execution_count": 22,
     "metadata": {},
     "output_type": "execute_result"
    }
   ],
   "source": [
    "np.divide(np.sum(B, axis=0), np.sum(B))"
   ]
  },
  {
   "cell_type": "markdown",
   "metadata": {},
   "source": [
    "### Visualize results"
   ]
  },
  {
   "cell_type": "code",
   "execution_count": 19,
   "metadata": {},
   "outputs": [],
   "source": [
    "viz.make_vor(1000, cell_assignments, position_dict, 4, './sample_results/', 'test_heuristic', [x for x in range(0, C.shape[0])])"
   ]
  }
 ],
 "metadata": {
  "interpreter": {
   "hash": "d304a04614eb3bcdf587a00e63943d54bed679b3872ec3347f24b5fb4701eb73"
  },
  "kernelspec": {
   "display_name": "Python 3.7.11 64-bit ('spleen': conda)",
   "language": "python",
   "name": "python3"
  },
  "language_info": {
   "codemirror_mode": {
    "name": "ipython",
    "version": 3
   },
   "file_extension": ".py",
   "mimetype": "text/x-python",
   "name": "python",
   "nbconvert_exporter": "python",
   "pygments_lexer": "ipython3",
   "version": "3.7.11"
  },
  "orig_nbformat": 4
 },
 "nbformat": 4,
 "nbformat_minor": 2
}
