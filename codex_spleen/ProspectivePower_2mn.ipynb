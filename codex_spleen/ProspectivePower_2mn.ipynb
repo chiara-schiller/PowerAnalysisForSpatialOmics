{
 "cells": [
  {
   "cell_type": "code",
   "execution_count": 18,
   "metadata": {},
   "outputs": [],
   "source": [
    "import numpy as np\n",
    "import scipy.sparse as sparse\n",
    "import spatialpower.neighborhoods.permutationtest as perm_test\n",
    "import multiprocessing as mp\n",
    "from datetime import datetime\n",
    "import errno\n",
    "from joblib import Parallel, delayed\n",
    "import os\n",
    "from glob import glob\n",
    "\n",
    "from matplotlib_venn import venn3, venn2\n",
    "import matplotlib.pyplot as plt\n"
   ]
  },
  {
   "cell_type": "code",
   "execution_count": 2,
   "metadata": {
    "code_folding": []
   },
   "outputs": [],
   "source": [
    "def run_test_nosave(A, B, H_gt, size, n_jobs, trials, graph, threshold):\n",
    "    '''\n",
    "    Runs the permutation test, and calculates signficant interaction pairs.\n",
    "\n",
    "    Parameters\n",
    "    ----------\n",
    "        size : int, size of graph to calculate.\n",
    "        n_jobs: int, number of parallel jobs to spawn\n",
    "        trials: int, number of shuffles in empirical distribution\n",
    "        plot : bool, generate histogram of each pairwise relation if True.\n",
    "\n",
    "    Returns\n",
    "    -------\n",
    "        enriched_pairs  :   array-like\n",
    "        depleted_pairs  :   array-like\n",
    "    '''\n",
    "   \n",
    "    n_cell_types = B.shape[1]\n",
    "    args = (A, B, size, graph, n_cell_types)\n",
    "    arg_list = [args for i in range(0, trials)]\n",
    "    results = Parallel(n_jobs=n_jobs, verbose=50, backend=\"sequential\")(\n",
    "        delayed(perm_test.permutation_test_trial_wrapper)(args) for args in arg_list)\n",
    "    #parse_results(results, size, out_dir)\n",
    "\n",
    "    arr = np.dstack(results)  # stack into a 3-D array\n",
    "    n_types = arr.shape[0]\n",
    "\n",
    "    enriched_pairs = []\n",
    "    depleted_pairs = []\n",
    "\n",
    "    for i in range(0, n_types):\n",
    "        for j in range(0, n_types):\n",
    "            ground_truth_score = H_gt[i, j]\n",
    "            emp_dist = arr[i, j, :]\n",
    "            indices, = np.where(emp_dist < ground_truth_score)\n",
    "            p = (len(emp_dist) - len(indices) + 1) / (len(emp_dist) + 1)\n",
    "            if p <= threshold:\n",
    "                enriched_pairs.append([i, j, p])\n",
    "            elif p >= 1 - threshold:\n",
    "                depleted_pairs.append([i, j, p])\n",
    "\n",
    "    # Write results matrix.\n",
    "    #np.save(out_dir + \"enriched_pairs.npy\", np.array(enriched_pairs))\n",
    "    #np.save(out_dir + \"depleted_pairs.npy\", np.array(depleted_pairs))\n",
    "\n",
    "    return enriched_pairs, depleted_pairs"
   ]
  },
  {
   "cell_type": "code",
   "execution_count": 3,
   "metadata": {},
   "outputs": [
    {
     "name": "stderr",
     "output_type": "stream",
     "text": [
      "/Users/ethan/Dropbox (MIT)/Lab/spatial-data-generation_brokengit/circle_packing/spatialpower/neighborhoods/permutationtest.py:177: RuntimeWarning: divide by zero encountered in true_divide\n",
      "  aux2 = 1/cell_type_counts\n"
     ]
    }
   ],
   "source": [
    "A = sparse.load_npz('./spleen_data/for_paper/stitched_graph_noblank.npz')\n",
    "B = np.load('./spleen_data/for_paper/B_full_image_heuristic_4.npy')\n",
    "p = np.divide(np.sum(B, axis=0), A.shape[0])\n",
    "H_gt = perm_test.calculate_neighborhood_distribution_sparse(A, B)"
   ]
  },
  {
   "cell_type": "code",
   "execution_count": 240,
   "metadata": {
    "scrolled": true
   },
   "outputs": [
    {
     "name": "stdout",
     "output_type": "stream",
     "text": [
      "[Parallel(n_jobs=10)]: Using backend SequentialBackend with 1 concurrent workers.\n",
      "[Parallel(n_jobs=10)]: Done   1 out of   1 | elapsed:    0.9s remaining:    0.0s\n",
      "[Parallel(n_jobs=10)]: Done   2 out of   2 | elapsed:    1.9s remaining:    0.0s\n",
      "[Parallel(n_jobs=10)]: Done   3 out of   3 | elapsed:    2.8s remaining:    0.0s\n",
      "[Parallel(n_jobs=10)]: Done   4 out of   4 | elapsed:    3.8s remaining:    0.0s\n",
      "[Parallel(n_jobs=10)]: Done   5 out of   5 | elapsed:    4.8s remaining:    0.0s\n",
      "[Parallel(n_jobs=10)]: Done   6 out of   6 | elapsed:    5.7s remaining:    0.0s\n",
      "[Parallel(n_jobs=10)]: Done   7 out of   7 | elapsed:    6.6s remaining:    0.0s\n",
      "[Parallel(n_jobs=10)]: Done   8 out of   8 | elapsed:    7.6s remaining:    0.0s\n",
      "[Parallel(n_jobs=10)]: Done   9 out of   9 | elapsed:    8.6s remaining:    0.0s\n",
      "[Parallel(n_jobs=10)]: Done  10 out of  10 | elapsed:    9.6s remaining:    0.0s\n",
      "[Parallel(n_jobs=10)]: Done  11 out of  11 | elapsed:   10.5s remaining:    0.0s\n",
      "[Parallel(n_jobs=10)]: Done  12 out of  12 | elapsed:   11.5s remaining:    0.0s\n",
      "[Parallel(n_jobs=10)]: Done  13 out of  13 | elapsed:   12.4s remaining:    0.0s\n",
      "[Parallel(n_jobs=10)]: Done  14 out of  14 | elapsed:   13.3s remaining:    0.0s\n",
      "[Parallel(n_jobs=10)]: Done  15 out of  15 | elapsed:   14.3s remaining:    0.0s\n",
      "[Parallel(n_jobs=10)]: Done  16 out of  16 | elapsed:   15.3s remaining:    0.0s\n",
      "[Parallel(n_jobs=10)]: Done  17 out of  17 | elapsed:   16.2s remaining:    0.0s\n",
      "[Parallel(n_jobs=10)]: Done  18 out of  18 | elapsed:   17.2s remaining:    0.0s\n",
      "[Parallel(n_jobs=10)]: Done  19 out of  19 | elapsed:   18.1s remaining:    0.0s\n",
      "[Parallel(n_jobs=10)]: Done  20 out of  20 | elapsed:   19.1s remaining:    0.0s\n",
      "[Parallel(n_jobs=10)]: Done  21 out of  21 | elapsed:   20.1s remaining:    0.0s\n",
      "[Parallel(n_jobs=10)]: Done  22 out of  22 | elapsed:   21.0s remaining:    0.0s\n",
      "[Parallel(n_jobs=10)]: Done  23 out of  23 | elapsed:   22.0s remaining:    0.0s\n",
      "[Parallel(n_jobs=10)]: Done  24 out of  24 | elapsed:   22.9s remaining:    0.0s\n",
      "[Parallel(n_jobs=10)]: Done  25 out of  25 | elapsed:   23.8s remaining:    0.0s\n",
      "[Parallel(n_jobs=10)]: Done  26 out of  26 | elapsed:   24.8s remaining:    0.0s\n",
      "[Parallel(n_jobs=10)]: Done  27 out of  27 | elapsed:   25.7s remaining:    0.0s\n",
      "[Parallel(n_jobs=10)]: Done  28 out of  28 | elapsed:   26.7s remaining:    0.0s\n",
      "[Parallel(n_jobs=10)]: Done  29 out of  29 | elapsed:   27.6s remaining:    0.0s\n",
      "[Parallel(n_jobs=10)]: Done  30 out of  30 | elapsed:   28.6s remaining:    0.0s\n",
      "[Parallel(n_jobs=10)]: Done  31 out of  31 | elapsed:   29.6s remaining:    0.0s\n",
      "[Parallel(n_jobs=10)]: Done  32 out of  32 | elapsed:   30.5s remaining:    0.0s\n",
      "[Parallel(n_jobs=10)]: Done  33 out of  33 | elapsed:   31.5s remaining:    0.0s\n",
      "[Parallel(n_jobs=10)]: Done  34 out of  34 | elapsed:   32.4s remaining:    0.0s\n",
      "[Parallel(n_jobs=10)]: Done  35 out of  35 | elapsed:   33.3s remaining:    0.0s\n",
      "[Parallel(n_jobs=10)]: Done  36 out of  36 | elapsed:   34.3s remaining:    0.0s\n",
      "[Parallel(n_jobs=10)]: Done  37 out of  37 | elapsed:   35.2s remaining:    0.0s\n",
      "[Parallel(n_jobs=10)]: Done  38 out of  38 | elapsed:   36.2s remaining:    0.0s\n",
      "[Parallel(n_jobs=10)]: Done  39 out of  39 | elapsed:   37.1s remaining:    0.0s\n",
      "[Parallel(n_jobs=10)]: Done  40 out of  40 | elapsed:   38.1s remaining:    0.0s\n",
      "[Parallel(n_jobs=10)]: Done  41 out of  41 | elapsed:   39.1s remaining:    0.0s\n",
      "[Parallel(n_jobs=10)]: Done  42 out of  42 | elapsed:   40.1s remaining:    0.0s\n",
      "[Parallel(n_jobs=10)]: Done  43 out of  43 | elapsed:   41.0s remaining:    0.0s\n",
      "[Parallel(n_jobs=10)]: Done  44 out of  44 | elapsed:   42.0s remaining:    0.0s\n",
      "[Parallel(n_jobs=10)]: Done  45 out of  45 | elapsed:   42.9s remaining:    0.0s\n",
      "[Parallel(n_jobs=10)]: Done  46 out of  46 | elapsed:   43.9s remaining:    0.0s\n",
      "[Parallel(n_jobs=10)]: Done  47 out of  47 | elapsed:   44.9s remaining:    0.0s\n",
      "[Parallel(n_jobs=10)]: Done  48 out of  48 | elapsed:   45.8s remaining:    0.0s\n",
      "[Parallel(n_jobs=10)]: Done  49 out of  49 | elapsed:   46.8s remaining:    0.0s\n",
      "[Parallel(n_jobs=10)]: Done 1000 out of 1000 | elapsed: 15.8min finished\n"
     ]
    }
   ],
   "source": [
    "enrichment_pairs, avoidance_pairs = run_test_nosave(A, B, H_gt, A.shape[0], n_jobs=10, trials=1000, graph=composite_graph, threshold = 0.1)"
   ]
  },
  {
   "cell_type": "code",
   "execution_count": 241,
   "metadata": {},
   "outputs": [],
   "source": []
  },
  {
   "cell_type": "code",
   "execution_count": 242,
   "metadata": {},
   "outputs": [],
   "source": [
    "#b = a[a[:,2].argsort()]\n",
    "enrichment_pair_arr = np.array(enrichment_pairs)\n",
    "enrichment_pair_arr_sorted = enrichment_pair_arr[enrichment_pair_arr[:,2].argsort()]\n",
    "np.save('./spleen_data/for_paper/image4_enrichments.npy', enrichment_pair_arr_sorted[enrichment_pair_arr_sorted[:,2] < 0.01])"
   ]
  },
  {
   "cell_type": "code",
   "execution_count": 4,
   "metadata": {},
   "outputs": [],
   "source": [
    "enrichment_pairs_1 = np.load('./spleen_data/for_paper/image1_enrichments.npy')\n",
    "enrichment_pairs_2 = np.load('./spleen_data/for_paper/image2_enrichments.npy')\n",
    "enrichment_pairs_3 = np.load('./spleen_data/for_paper/image3_enrichments.npy')\n",
    "enrichment_pairs_4 = np.load('./spleen_data/for_paper/image4_enrichments.npy')"
   ]
  },
  {
   "cell_type": "code",
   "execution_count": 5,
   "metadata": {},
   "outputs": [],
   "source": [
    "enrichment_pairs_list_1 = enrichment_pairs_1[:, :2].astype(int).tolist()\n",
    "enrichment_pairs_list_2 = enrichment_pairs_2[:, :2].astype(int).tolist()\n",
    "enrichment_pairs_list_3 = enrichment_pairs_3[:, :2].astype(int).tolist()\n",
    "enrichment_pairs_list_4 = enrichment_pairs_3[:, :2].astype(int).tolist()"
   ]
  },
  {
   "cell_type": "code",
   "execution_count": 6,
   "metadata": {},
   "outputs": [],
   "source": [
    "enrichment_pairs_list_1.remove([27,27])\n",
    "enrichment_pairs_list_2.remove([27,27])\n",
    "enrichment_pairs_list_3.remove([27,27])\n",
    "enrichment_pairs_list_4.remove([27,27])"
   ]
  },
  {
   "cell_type": "code",
   "execution_count": 8,
   "metadata": {},
   "outputs": [],
   "source": [
    "#Convert pairs to pair IDs\n",
    "pair_id_dict = dict()\n",
    "\n",
    "id_counter = 0\n",
    "for i in range(0, 27):\n",
    "    for j in range(0,27):\n",
    "        pair_id_dict[(i,j)] = id_counter\n",
    "        id_counter += 1"
   ]
  },
  {
   "cell_type": "code",
   "execution_count": 9,
   "metadata": {},
   "outputs": [],
   "source": [
    "def parse_arr_to_tuple(l):\n",
    "    res = []\n",
    "    for i in l:\n",
    "        x = i[0]\n",
    "        y = i[1]\n",
    "        res.append((x,y))\n",
    "    return res"
   ]
  },
  {
   "cell_type": "code",
   "execution_count": 10,
   "metadata": {},
   "outputs": [],
   "source": [
    "enrichment_pairs_tuples_1 = parse_arr_to_tuple(enrichment_pairs_list_1)\n",
    "enrichment_pairs_tuples_2 = parse_arr_to_tuple(enrichment_pairs_list_2)\n",
    "enrichment_pairs_tuples_3 = parse_arr_to_tuple(enrichment_pairs_list_3)\n",
    "enrichment_pairs_tuples_4 = parse_arr_to_tuple(enrichment_pairs_list_4)"
   ]
  },
  {
   "cell_type": "code",
   "execution_count": 11,
   "metadata": {},
   "outputs": [],
   "source": [
    "x = set(enrichment_pairs_tuples_1).union(enrichment_pairs_tuples_3)"
   ]
  },
  {
   "cell_type": "code",
   "execution_count": 12,
   "metadata": {},
   "outputs": [
    {
     "data": {
      "text/plain": [
       "{(0, 25),\n",
       " (2, 2),\n",
       " (2, 3),\n",
       " (3, 2),\n",
       " (3, 4),\n",
       " (3, 5),\n",
       " (3, 8),\n",
       " (3, 10),\n",
       " (3, 14),\n",
       " (3, 19),\n",
       " (3, 20),\n",
       " (3, 21),\n",
       " (4, 3),\n",
       " (4, 26),\n",
       " (5, 3),\n",
       " (5, 14),\n",
       " (5, 24),\n",
       " (6, 26),\n",
       " (7, 11),\n",
       " (8, 3),\n",
       " (8, 26),\n",
       " (9, 3),\n",
       " (10, 2),\n",
       " (10, 3),\n",
       " (11, 3),\n",
       " (11, 6),\n",
       " (11, 7),\n",
       " (11, 12),\n",
       " (11, 26),\n",
       " (12, 11),\n",
       " (12, 20),\n",
       " (14, 3),\n",
       " (14, 5),\n",
       " (16, 26),\n",
       " (19, 1),\n",
       " (19, 3),\n",
       " (19, 20),\n",
       " (19, 26),\n",
       " (20, 3),\n",
       " (20, 12),\n",
       " (20, 19),\n",
       " (20, 26),\n",
       " (21, 3),\n",
       " (21, 26),\n",
       " (24, 5),\n",
       " (25, 0),\n",
       " (26, 4),\n",
       " (26, 6),\n",
       " (26, 16),\n",
       " (26, 19),\n",
       " (26, 20),\n",
       " (26, 21)}"
      ]
     },
     "execution_count": 12,
     "metadata": {},
     "output_type": "execute_result"
    }
   ],
   "source": [
    "set(enrichment_pairs_tuples_2).difference(x)"
   ]
  },
  {
   "cell_type": "markdown",
   "metadata": {},
   "source": [
    "## Compare to real data"
   ]
  },
  {
   "cell_type": "code",
   "execution_count": 13,
   "metadata": {},
   "outputs": [
    {
     "name": "stderr",
     "output_type": "stream",
     "text": [
      "/Users/ethan/Dropbox (MIT)/Lab/spatial-data-generation_brokengit/circle_packing/spatialpower/neighborhoods/permutationtest.py:170: RuntimeWarning: divide by zero encountered in true_divide\n",
      "  aux1 = 1/edge_count_by_node\n"
     ]
    }
   ],
   "source": [
    "A = sparse.load_npz('./spleen_data/for_paper/A_full_balbc3.npz') #BALBC-1\n",
    "B = np.load('./spleen_data/for_paper/B_full_balbc3.npy')\n",
    "p = np.divide(np.sum(B, axis=0), A.shape[0])\n",
    "H_gt = perm_test.calculate_neighborhood_distribution_sparse(A, B)"
   ]
  },
  {
   "cell_type": "code",
   "execution_count": 261,
   "metadata": {
    "scrolled": true
   },
   "outputs": [
    {
     "name": "stdout",
     "output_type": "stream",
     "text": [
      "[Parallel(n_jobs=10)]: Using backend SequentialBackend with 1 concurrent workers.\n",
      "[Parallel(n_jobs=10)]: Done   1 out of   1 | elapsed:    0.8s remaining:    0.0s\n",
      "[Parallel(n_jobs=10)]: Done   2 out of   2 | elapsed:    1.5s remaining:    0.0s\n",
      "[Parallel(n_jobs=10)]: Done   3 out of   3 | elapsed:    2.3s remaining:    0.0s\n",
      "[Parallel(n_jobs=10)]: Done   4 out of   4 | elapsed:    3.1s remaining:    0.0s\n",
      "[Parallel(n_jobs=10)]: Done   5 out of   5 | elapsed:    3.9s remaining:    0.0s\n",
      "[Parallel(n_jobs=10)]: Done   6 out of   6 | elapsed:    4.7s remaining:    0.0s\n",
      "[Parallel(n_jobs=10)]: Done   7 out of   7 | elapsed:    5.5s remaining:    0.0s\n",
      "[Parallel(n_jobs=10)]: Done   8 out of   8 | elapsed:    6.3s remaining:    0.0s\n",
      "[Parallel(n_jobs=10)]: Done   9 out of   9 | elapsed:    7.1s remaining:    0.0s\n",
      "[Parallel(n_jobs=10)]: Done  10 out of  10 | elapsed:    7.8s remaining:    0.0s\n",
      "[Parallel(n_jobs=10)]: Done  11 out of  11 | elapsed:    8.6s remaining:    0.0s\n",
      "[Parallel(n_jobs=10)]: Done  12 out of  12 | elapsed:    9.4s remaining:    0.0s\n",
      "[Parallel(n_jobs=10)]: Done  13 out of  13 | elapsed:   10.1s remaining:    0.0s\n",
      "[Parallel(n_jobs=10)]: Done  14 out of  14 | elapsed:   10.9s remaining:    0.0s\n",
      "[Parallel(n_jobs=10)]: Done  15 out of  15 | elapsed:   11.7s remaining:    0.0s\n",
      "[Parallel(n_jobs=10)]: Done  16 out of  16 | elapsed:   12.4s remaining:    0.0s\n",
      "[Parallel(n_jobs=10)]: Done  17 out of  17 | elapsed:   13.2s remaining:    0.0s\n",
      "[Parallel(n_jobs=10)]: Done  18 out of  18 | elapsed:   14.0s remaining:    0.0s\n",
      "[Parallel(n_jobs=10)]: Done  19 out of  19 | elapsed:   14.7s remaining:    0.0s\n",
      "[Parallel(n_jobs=10)]: Done  20 out of  20 | elapsed:   15.5s remaining:    0.0s\n",
      "[Parallel(n_jobs=10)]: Done  21 out of  21 | elapsed:   16.3s remaining:    0.0s\n",
      "[Parallel(n_jobs=10)]: Done  22 out of  22 | elapsed:   17.1s remaining:    0.0s\n",
      "[Parallel(n_jobs=10)]: Done  23 out of  23 | elapsed:   17.9s remaining:    0.0s\n",
      "[Parallel(n_jobs=10)]: Done  24 out of  24 | elapsed:   18.7s remaining:    0.0s\n",
      "[Parallel(n_jobs=10)]: Done  25 out of  25 | elapsed:   19.4s remaining:    0.0s\n",
      "[Parallel(n_jobs=10)]: Done  26 out of  26 | elapsed:   20.2s remaining:    0.0s\n",
      "[Parallel(n_jobs=10)]: Done  27 out of  27 | elapsed:   21.0s remaining:    0.0s\n",
      "[Parallel(n_jobs=10)]: Done  28 out of  28 | elapsed:   21.8s remaining:    0.0s\n",
      "[Parallel(n_jobs=10)]: Done  29 out of  29 | elapsed:   22.5s remaining:    0.0s\n",
      "[Parallel(n_jobs=10)]: Done  30 out of  30 | elapsed:   23.3s remaining:    0.0s\n",
      "[Parallel(n_jobs=10)]: Done  31 out of  31 | elapsed:   24.1s remaining:    0.0s\n",
      "[Parallel(n_jobs=10)]: Done  32 out of  32 | elapsed:   24.9s remaining:    0.0s\n",
      "[Parallel(n_jobs=10)]: Done  33 out of  33 | elapsed:   25.6s remaining:    0.0s\n",
      "[Parallel(n_jobs=10)]: Done  34 out of  34 | elapsed:   26.4s remaining:    0.0s\n",
      "[Parallel(n_jobs=10)]: Done  35 out of  35 | elapsed:   27.2s remaining:    0.0s\n",
      "[Parallel(n_jobs=10)]: Done  36 out of  36 | elapsed:   28.0s remaining:    0.0s\n",
      "[Parallel(n_jobs=10)]: Done  37 out of  37 | elapsed:   28.8s remaining:    0.0s\n",
      "[Parallel(n_jobs=10)]: Done  38 out of  38 | elapsed:   29.5s remaining:    0.0s\n",
      "[Parallel(n_jobs=10)]: Done  39 out of  39 | elapsed:   30.3s remaining:    0.0s\n",
      "[Parallel(n_jobs=10)]: Done  40 out of  40 | elapsed:   31.1s remaining:    0.0s\n",
      "[Parallel(n_jobs=10)]: Done  41 out of  41 | elapsed:   31.9s remaining:    0.0s\n",
      "[Parallel(n_jobs=10)]: Done  42 out of  42 | elapsed:   32.7s remaining:    0.0s\n",
      "[Parallel(n_jobs=10)]: Done  43 out of  43 | elapsed:   33.5s remaining:    0.0s\n",
      "[Parallel(n_jobs=10)]: Done  44 out of  44 | elapsed:   34.2s remaining:    0.0s\n",
      "[Parallel(n_jobs=10)]: Done  45 out of  45 | elapsed:   35.0s remaining:    0.0s\n",
      "[Parallel(n_jobs=10)]: Done  46 out of  46 | elapsed:   35.7s remaining:    0.0s\n",
      "[Parallel(n_jobs=10)]: Done  47 out of  47 | elapsed:   36.6s remaining:    0.0s\n",
      "[Parallel(n_jobs=10)]: Done  48 out of  48 | elapsed:   37.4s remaining:    0.0s\n",
      "[Parallel(n_jobs=10)]: Done  49 out of  49 | elapsed:   38.2s remaining:    0.0s\n",
      "[Parallel(n_jobs=10)]: Done 1000 out of 1000 | elapsed: 13.2min finished\n"
     ]
    }
   ],
   "source": [
    "enrichment_pairs, avoidance_pairs = run_test_nosave(A, B, H_gt, A.shape[0], n_jobs=10, trials=1000, graph=nx.from_scipy_sparse_matrix(A), threshold = 0.1)"
   ]
  },
  {
   "cell_type": "code",
   "execution_count": 262,
   "metadata": {},
   "outputs": [],
   "source": [
    "enrichment_pair_arr = np.array(enrichment_pairs)\n",
    "enrichment_pair_arr_sorted = enrichment_pair_arr[enrichment_pair_arr[:,2].argsort()]\n",
    "np.save('./spleen_data/for_paper/balbc3_enrichments.npy', enrichment_pair_arr_sorted[enrichment_pair_arr_sorted[:,2] < 0.01])"
   ]
  },
  {
   "cell_type": "code",
   "execution_count": 14,
   "metadata": {},
   "outputs": [],
   "source": [
    "balbc1 = np.load('./spleen_data/for_paper/balbc1_enrichments.npy')\n",
    "balbc2 = np.load('./spleen_data/for_paper/balbc2_enrichments.npy')\n",
    "balbc3 = np.load('./spleen_data/for_paper/balbc3_enrichments.npy')"
   ]
  },
  {
   "cell_type": "code",
   "execution_count": 15,
   "metadata": {},
   "outputs": [],
   "source": [
    "balbc1_pairs_list = balbc1[:, :2].astype(int).tolist()\n",
    "balbc2_pairs_list = balbc2[:, :2].astype(int).tolist()\n",
    "balbc3_pairs_list = balbc3[:, :2].astype(int).tolist()"
   ]
  },
  {
   "cell_type": "code",
   "execution_count": 16,
   "metadata": {},
   "outputs": [],
   "source": [
    "balbc1_enrichment_pairs_tuples = parse_arr_to_tuple(balbc1_pairs_list)\n",
    "balbc2_enrichment_pairs_tuples = parse_arr_to_tuple(balbc2_pairs_list)\n",
    "balbc3_enrichment_pairs_tuples = parse_arr_to_tuple(balbc3_pairs_list)\n",
    "\n"
   ]
  },
  {
   "cell_type": "code",
   "execution_count": 19,
   "metadata": {},
   "outputs": [
    {
     "data": {
      "image/png": "[encoded data removed]",
      "text/plain": [
       "<Figure size 640x480 with 1 Axes>"
      ]
     },
     "metadata": {},
     "output_type": "display_data"
    }
   ],
   "source": [
    "venn3((set(balbc1_enrichment_pairs_tuples), set(balbc2_enrichment_pairs_tuples), set(balbc3_enrichment_pairs_tuples)), set_labels=('BALBC-1', 'BALBC-2', 'BALBC-3'))\n",
    "#plt.savefig('./spleen_data/figures/BALBC_RST_venn.pdf')\n",
    "plt.show()"
   ]
  },
  {
   "cell_type": "markdown",
   "metadata": {},
   "source": [
    "## Stitch together shuffled tiles"
   ]
  },
  {
   "cell_type": "code",
   "execution_count": 20,
   "metadata": {},
   "outputs": [],
   "source": [
    "from glob import glob"
   ]
  },
  {
   "cell_type": "code",
   "execution_count": 21,
   "metadata": {},
   "outputs": [],
   "source": [
    "pals_B_arr_names = np.sort(glob('./spleen_data/for_paper/tiles/239_cell_tiles/shuffling_experiment/B_hueristic_pals*'))\n",
    "bfollicle_B_arr_names = np.sort(glob('./spleen_data/for_paper/tiles/239_cell_tiles/shuffling_experiment/B_hueristic_bfollicle*'))\n",
    "redpulp_B_arr_names = np.sort(glob('./spleen_data/for_paper/tiles/239_cell_tiles/shuffling_experiment/B_hueristic_redpulp*'))\n",
    "marginalzone_B_arr_names = np.sort(glob('./spleen_data/for_paper/tiles/239_cell_tiles/shuffling_experiment/B_hueristic_marginalzone*'))"
   ]
  },
  {
   "cell_type": "code",
   "execution_count": 22,
   "metadata": {},
   "outputs": [
    {
     "name": "stdout",
     "output_type": "stream",
     "text": [
      "B Follicle Tiles  51\n",
      "PALS Tiles  94\n",
      "Red Pulp Tiles  174\n",
      "Marginal Zone Tiles 69\n"
     ]
    }
   ],
   "source": [
    "b_follicle_count = 51\n",
    "pals_count = 94\n",
    "red_pulp_count = 174\n",
    "marginal_zone_count = 69\n",
    "\n",
    "\n",
    "print(\"B Follicle Tiles \", b_follicle_count)\n",
    "print(\"PALS Tiles \", pals_count)\n",
    "print(\"Red Pulp Tiles \", red_pulp_count)\n",
    "print(\"Marginal Zone Tiles\", marginal_zone_count)"
   ]
  },
  {
   "cell_type": "code",
   "execution_count": 23,
   "metadata": {},
   "outputs": [],
   "source": [
    "# Assign the tiles to tissues. \n",
    "bfollicle_tiles_per_tissue = np.random.choice(bfollicle_B_arr_names, (20, b_follicle_count), replace=False)\n",
    "pals_tiles_per_tissue = np.random.choice(pals_B_arr_names, (20, pals_count), replace=False)\n",
    "redpulp_tiles_per_tissue = np.random.choice(redpulp_B_arr_names, (20, red_pulp_count), replace=False)\n",
    "marginalzone_tiles_per_tissue = np.random.choice(marginalzone_B_arr_names, (20, marginal_zone_count), replace=False)"
   ]
  },
  {
   "cell_type": "code",
   "execution_count": 307,
   "metadata": {},
   "outputs": [],
   "source": [
    "for j in range(0, 20):\n",
    "    tissue_tiles = np.concatenate((bfollicle_tiles_per_tissue[j], pals_tiles_per_tissue[j], \n",
    "                                   redpulp_tiles_per_tissue[j], marginalzone_tiles_per_tissue[j]))\n",
    "    np.random.shuffle(tissue_tiles) #Shuffles in place\n",
    "\n",
    "    for i in range(0, len(tissue_tiles)):\n",
    "        B_tile = np.load(tissue_tiles[i])\n",
    "\n",
    "        if i == 0:\n",
    "            #This is the first tile. \n",
    "            B_composite = B_tile\n",
    "        else:\n",
    "            B_composite = np.vstack((B_composite, B_tile))\n",
    "\n",
    "    np.save('./spleen_data/for_paper/tiles/239_cell_tiles/shuffling_experiment/B_composite_' + str(j) + '.npy',\n",
    "            B_composite)\n"
   ]
  },
  {
   "cell_type": "markdown",
   "metadata": {},
   "source": [
    "### Parse shuffled tiles permutation results"
   ]
  },
  {
   "cell_type": "code",
   "execution_count": 3,
   "metadata": {},
   "outputs": [],
   "source": [
    "from glob import glob"
   ]
  },
  {
   "cell_type": "code",
   "execution_count": 24,
   "metadata": {},
   "outputs": [],
   "source": [
    "results_arr = glob('./spleen_data/for_paper/tiles/239_cell_tiles/shuffling_experiment/enriched_pairs*')"
   ]
  },
  {
   "cell_type": "code",
   "execution_count": 25,
   "metadata": {},
   "outputs": [],
   "source": [
    "def parse_arr_to_tuple(l):\n",
    "    res = []\n",
    "    for i in l:\n",
    "        x = i[0]\n",
    "        y = i[1]\n",
    "        res.append((x,y))\n",
    "    return res\n",
    "\n",
    "def parse_permutation_test_results(arr_path, alpha=0.01):\n",
    "    arr = np.load(arr_path)\n",
    "    sig_ixns = arr[arr[:,2] < alpha]\n",
    "    sig_ixns_list = sig_ixns[:, :2].astype(int).tolist()\n",
    "    tuple_list = parse_arr_to_tuple(sig_ixns_list)\n",
    "    tuple_set = set(tuple_list)\n",
    "    return tuple_set\n"
   ]
  },
  {
   "cell_type": "code",
   "execution_count": 26,
   "metadata": {},
   "outputs": [],
   "source": [
    "results_sets = [parse_permutation_test_results(i) for i in results_arr]"
   ]
  },
  {
   "cell_type": "code",
   "execution_count": 27,
   "metadata": {},
   "outputs": [],
   "source": [
    "#for each interaction, count in how many tissues it was observed. \n",
    "possible_ixns = []\n",
    "for i in range(0, 27):\n",
    "    for j in range(0, 27):\n",
    "        possible_ixns.append((i,j))\n",
    "\n",
    "ixn_counts = dict(zip(possible_ixns, [0 for x in range(0, len(possible_ixns))]))"
   ]
  },
  {
   "cell_type": "code",
   "execution_count": 28,
   "metadata": {},
   "outputs": [],
   "source": [
    "for ixn in possible_ixns:\n",
    "    for result_set in results_sets:\n",
    "        if ixn in result_set:\n",
    "            ixn_counts[ixn] += 1"
   ]
  },
  {
   "cell_type": "code",
   "execution_count": 29,
   "metadata": {},
   "outputs": [],
   "source": [
    "ixn_counts_list = list(ixn_counts.values())"
   ]
  },
  {
   "cell_type": "code",
   "execution_count": 30,
   "metadata": {},
   "outputs": [
    {
     "name": "stdout",
     "output_type": "stream",
     "text": [
      "[ 0  1  2  3  4  5  6  7  8  9 10 11 12 13 14 15 16 17 18 19 20]\n",
      "[405 104  44  24  22  15   2   3   6   5   7   3   5   6   4   5   5  13\n",
      "   3   4  44]\n"
     ]
    }
   ],
   "source": [
    "n_tissues_with_interaction, counts = np.unique(ixn_counts_list, return_counts=True)\n",
    "print(n_tissues_with_interaction)\n",
    "print(counts)"
   ]
  },
  {
   "cell_type": "code",
   "execution_count": 32,
   "metadata": {},
   "outputs": [
    {
     "data": {
      "image/png": "[encoded data removed]",
      "text/plain": [
       "<Figure size 640x480 with 1 Axes>"
      ]
     },
     "metadata": {},
     "output_type": "display_data"
    }
   ],
   "source": [
    "import matplotlib\n",
    "from matplotlib import cm, colors\n",
    "import matplotlib.pyplot as plt\n",
    "import seaborn as sns\n",
    "\n",
    "matplotlib.rcParams.update({'axes.linewidth': 0.25,\n",
    "                            'xtick.major.size': 2,\n",
    "                            'xtick.major.width': 0.25,\n",
    "                            'ytick.major.size': 2,\n",
    "                            'ytick.major.width': 0.25,\n",
    "                            'pdf.fonttype': 42,\n",
    "                            'font.sans-serif': 'Arial'})\n",
    "sns.set_style('whitegrid')\n",
    "sns.barplot(x=n_tissues_with_interaction[:], y=counts[:], color = (2/255, 158/255, 115/255))\n",
    "plt.ylabel(r'Count of unique interactions')\n",
    "plt.xlabel(r'Number of tissues where interaction was significant (p<0.01)')\n",
    "#plt.savefig('./spleen_data/figures/IST_shuffledtiles_overlap_barplot.pdf')\n",
    "#plt.savefig('./spleen_data/figures/Figure2G.pdf')\n",
    "plt.show()"
   ]
  },
  {
   "cell_type": "markdown",
   "metadata": {},
   "source": [
    "### Compare to real data"
   ]
  },
  {
   "cell_type": "code",
   "execution_count": 33,
   "metadata": {},
   "outputs": [],
   "source": [
    "real_data_all_shared = set.intersection(set(balbc1_enrichment_pairs_tuples), set(balbc2_enrichment_pairs_tuples), set(balbc3_enrichment_pairs_tuples))\n"
   ]
  },
  {
   "cell_type": "code",
   "execution_count": 34,
   "metadata": {},
   "outputs": [],
   "source": [
    "ist_data_all_shared = []\n",
    "\n",
    "for ixn in possible_ixns:\n",
    "    if ixn_counts[ixn] == 20:\n",
    "        ist_data_all_shared.append(ixn)"
   ]
  },
  {
   "cell_type": "markdown",
   "metadata": {},
   "source": [
    "### Binomial Trials"
   ]
  },
  {
   "cell_type": "code",
   "execution_count": 38,
   "metadata": {},
   "outputs": [],
   "source": [
    "from scipy import stats\n"
   ]
  },
  {
   "cell_type": "code",
   "execution_count": 40,
   "metadata": {},
   "outputs": [
    {
     "name": "stderr",
     "output_type": "stream",
     "text": [
      "/Users/ethan/miniconda3/envs/spleen/lib/python3.7/site-packages/seaborn/_decorators.py:43: FutureWarning: Pass the following variables as keyword args: x, y. From version 0.12, the only valid positional argument will be `data`, and passing other arguments without an explicit keyword will result in an error or misinterpretation.\n",
      "  FutureWarning\n",
      "/Users/ethan/miniconda3/envs/spleen/lib/python3.7/site-packages/seaborn/_decorators.py:43: FutureWarning: Pass the following variables as keyword args: x, y. From version 0.12, the only valid positional argument will be `data`, and passing other arguments without an explicit keyword will result in an error or misinterpretation.\n",
      "  FutureWarning\n",
      "/Users/ethan/miniconda3/envs/spleen/lib/python3.7/site-packages/seaborn/_decorators.py:43: FutureWarning: Pass the following variables as keyword args: x, y. From version 0.12, the only valid positional argument will be `data`, and passing other arguments without an explicit keyword will result in an error or misinterpretation.\n",
      "  FutureWarning\n",
      "/Users/ethan/miniconda3/envs/spleen/lib/python3.7/site-packages/seaborn/_decorators.py:43: FutureWarning: Pass the following variables as keyword args: x, y. From version 0.12, the only valid positional argument will be `data`, and passing other arguments without an explicit keyword will result in an error or misinterpretation.\n",
      "  FutureWarning\n",
      "/Users/ethan/miniconda3/envs/spleen/lib/python3.7/site-packages/seaborn/_decorators.py:43: FutureWarning: Pass the following variables as keyword args: x, y. From version 0.12, the only valid positional argument will be `data`, and passing other arguments without an explicit keyword will result in an error or misinterpretation.\n",
      "  FutureWarning\n",
      "/Users/ethan/miniconda3/envs/spleen/lib/python3.7/site-packages/seaborn/_decorators.py:43: FutureWarning: Pass the following variables as keyword args: x, y. From version 0.12, the only valid positional argument will be `data`, and passing other arguments without an explicit keyword will result in an error or misinterpretation.\n",
      "  FutureWarning\n",
      "/Users/ethan/miniconda3/envs/spleen/lib/python3.7/site-packages/seaborn/_decorators.py:43: FutureWarning: Pass the following variables as keyword args: x, y. From version 0.12, the only valid positional argument will be `data`, and passing other arguments without an explicit keyword will result in an error or misinterpretation.\n",
      "  FutureWarning\n"
     ]
    },
    {
     "data": {
      "image/png": "[encoded data removed]",
      "text/plain": [
       "<Figure size 640x480 with 1 Axes>"
      ]
     },
     "metadata": {},
     "output_type": "display_data"
    }
   ],
   "source": [
    "import matplotlib\n",
    "from matplotlib import cm, colors\n",
    "import matplotlib.pyplot as plt\n",
    "\n",
    "matplotlib.rcParams.update({'axes.linewidth': 0.25,\n",
    "                            'xtick.major.size': 2,\n",
    "                            'xtick.major.width': 0.25,\n",
    "                            'ytick.major.size': 2,\n",
    "                            'ytick.major.width': 0.25,\n",
    "                            'pdf.fonttype': 42,\n",
    "                            'font.sans-serif': 'Arial'})\n",
    "plt.clf()\n",
    "sns.set_style('whitegrid')\n",
    "sns.set_palette('colorblind')\n",
    "x = [i for i in range(0,21)]\n",
    "\n",
    "sns.lineplot(x, stats.binom.sf(0,x, 1), label = r'20 ISTs')\n",
    "sns.lineplot(x, stats.binom.sf(0,x, 0.95), label = r'19 ISTs')\n",
    "sns.lineplot(x, stats.binom.sf(0,x, 0.75), label = r'15 ISTs')\n",
    "sns.lineplot(x, stats.binom.sf(0,x, 0.50), label = r'10 ISTs')\n",
    "sns.lineplot(x, stats.binom.sf(0,x, 0.25), label = r'5 ISTs')\n",
    "sns.lineplot(x, stats.binom.sf(0,x, 0.1), label = r'2 ISTs')\n",
    "sns.lineplot(x, stats.binom.sf(0,x, 0.05), label = r'1 IST')\n",
    "\n",
    "plt.xticks([i for i in range(0,21,2)])\n",
    "plt.ylabel(r\"Probability of Observing Interaction\")\n",
    "plt.xlabel(r\"N samples\")\n",
    "#plt.savefig('./spleen_data/figures/binomial_probabilities_ISTabundance.pdf')\n",
    "#plt.savefig('./spleen_data/figures/Figure2I.pdf')\n",
    "plt.show()"
   ]
  },
  {
   "cell_type": "code",
   "execution_count": 42,
   "metadata": {},
   "outputs": [
    {
     "data": {
      "image/png": "[encoded data removed]",
      "text/plain": [
       "<Figure size 640x480 with 1 Axes>"
      ]
     },
     "metadata": {},
     "output_type": "display_data"
    }
   ],
   "source": [
    "import matplotlib\n",
    "from matplotlib import cm, colors\n",
    "import matplotlib.pyplot as plt\n",
    "\n",
    "matplotlib.rcParams.update({'axes.linewidth': 0.25,\n",
    "                            'xtick.major.size': 2,\n",
    "                            'xtick.major.width': 0.25,\n",
    "                            'ytick.major.size': 2,\n",
    "                            'ytick.major.width': 0.25,\n",
    "                            'pdf.fonttype': 42,\n",
    "                            'font.sans-serif': 'Arial'})\n",
    "\n",
    "venn2((set(ist_data_all_shared), real_data_all_shared), set_labels=(r'All ISTs', r\"All RST\") )\n",
    "#plt.savefig('./spleen_data/figures/IST_RST_comparison.pdf')\n",
    "#plt.savefig('./spleen_data/figures/Figure2H.pdf')\n",
    "plt.show()"
   ]
  },
  {
   "cell_type": "code",
   "execution_count": 507,
   "metadata": {},
   "outputs": [
    {
     "data": {
      "text/plain": [
       "{(0, 10),\n",
       " (3, 3),\n",
       " (3, 26),\n",
       " (4, 5),\n",
       " (4, 10),\n",
       " (5, 4),\n",
       " (5, 5),\n",
       " (5, 8),\n",
       " (5, 10),\n",
       " (5, 11),\n",
       " (5, 19),\n",
       " (5, 21),\n",
       " (8, 5),\n",
       " (8, 10),\n",
       " (9, 9),\n",
       " (9, 26),\n",
       " (10, 0),\n",
       " (10, 4),\n",
       " (10, 5),\n",
       " (10, 8),\n",
       " (10, 10),\n",
       " (10, 11),\n",
       " (10, 19),\n",
       " (10, 21),\n",
       " (10, 22),\n",
       " (10, 26),\n",
       " (11, 5),\n",
       " (11, 10),\n",
       " (13, 13),\n",
       " (13, 15),\n",
       " (13, 24),\n",
       " (15, 13),\n",
       " (15, 15),\n",
       " (19, 5),\n",
       " (19, 10),\n",
       " (21, 5),\n",
       " (21, 10),\n",
       " (22, 10),\n",
       " (24, 13),\n",
       " (24, 15),\n",
       " (26, 3),\n",
       " (26, 9),\n",
       " (26, 10),\n",
       " (26, 26)}"
      ]
     },
     "execution_count": 507,
     "metadata": {},
     "output_type": "execute_result"
    }
   ],
   "source": [
    "set(ist_data_all_shared)"
   ]
  },
  {
   "cell_type": "code",
   "execution_count": null,
   "metadata": {},
   "outputs": [],
   "source": []
  }
 ],
 "metadata": {
  "interpreter": {
   "hash": "ce91c2687726854b6fdbe9657ff11af2d296080a931128654e5cbc69223a0ebf"
  },
  "kernelspec": {
   "display_name": "Python 3.7.11 64-bit ('spleen': conda)",
   "name": "python3"
  },
  "language_info": {
   "codemirror_mode": {
    "name": "ipython",
    "version": 3
   },
   "file_extension": ".py",
   "mimetype": "text/x-python",
   "name": "python",
   "nbconvert_exporter": "python",
   "pygments_lexer": "ipython3",
   "version": "3.7.11"
  },
  "toc": {
   "base_numbering": 1,
   "nav_menu": {},
   "number_sections": true,
   "sideBar": true,
   "skip_h1_title": true,
   "title_cell": "Table of Contents",
   "title_sidebar": "Contents",
   "toc_cell": false,
   "toc_position": {
    "height": "calc(100% - 180px)",
    "left": "10px",
    "top": "150px",
    "width": "269.183px"
   },
   "toc_section_display": true,
   "toc_window_display": true
  }
 },
 "nbformat": 4,
 "nbformat_minor": 2
}
