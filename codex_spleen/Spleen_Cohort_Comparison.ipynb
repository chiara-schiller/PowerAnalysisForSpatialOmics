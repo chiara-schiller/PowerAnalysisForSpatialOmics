{
 "cells": [
  {
   "cell_type": "code",
   "execution_count": 1,
   "metadata": {},
   "outputs": [],
   "source": [
    "import numpy as np\n",
    "import pandas as pd\n",
    "import networkx as nx \n",
    "import matplotlib.pyplot as plt\n",
    "\n",
    "import spatialpower.neighborhoods.permutationtest as perm_test\n"
   ]
  },
  {
   "cell_type": "markdown",
   "metadata": {},
   "source": [
    "## Load data and filter to one tile"
   ]
  },
  {
   "cell_type": "code",
   "execution_count": 2,
   "metadata": {},
   "outputs": [],
   "source": [
    "#Load data\n",
    "\n",
    "df = pd.read_csv('/Users/ethan/Dropbox (MIT)/Lab/datasets/CODEX_Spleen/CODEX_MRLdataset_neighborhood_graph.csv', header = 0)\n",
    "balbc1 = df[df['Cell1 Sample_Xtile_Ytile'].str.startswith('BALBc-1')]\n",
    "tile_names = np.sort(balbc1['Cell1 Sample_Xtile_Ytile'].unique())"
   ]
  },
  {
   "cell_type": "markdown",
   "metadata": {},
   "source": [
    "### Stitch"
   ]
  },
  {
   "cell_type": "code",
   "execution_count": 3,
   "metadata": {},
   "outputs": [],
   "source": [
    "x_boundary = 0\n",
    "x_adjustments = dict()\n",
    "y_boundary = 0\n",
    "y_adjustments = dict()\n",
    "\n",
    "for x in range(1, 7):\n",
    "    \n",
    "    if x == 1:\n",
    "        x_adjustments[x] = 0\n",
    "   \n",
    "    key = 'BALBc-1_X0' + str(x) + '_Y01'\n",
    "    max_x = max(balbc1[balbc1['Cell1 Sample_Xtile_Ytile'] == key]['X1'])\n",
    "    x_boundary += max_x\n",
    "    x_adjustments[x + 1] = x_boundary\n",
    "\n",
    "for y in range(1,9):\n",
    "    \n",
    "    if y == 1:\n",
    "        y_adjustments[y] = 0\n",
    "    \n",
    "    key = 'BALBc-1_X01_Y0' + str(y)\n",
    "    max_y = max(balbc1[balbc1['Cell1 Sample_Xtile_Ytile'] == key]['Y1'])\n",
    "    y_boundary += max_y\n",
    "    y_adjustments[y + 1] = y_boundary\n",
    "    \n",
    "\n",
    "df['X1_adjusted'] = np.NaN\n",
    "df['Y1_adjusted'] = np.NaN\n",
    "\n",
    "for tile in tile_names:\n",
    "    df[df['Cell1 Sample_Xtile_Ytile'] == tile]"
   ]
  },
  {
   "cell_type": "code",
   "execution_count": 4,
   "metadata": {},
   "outputs": [],
   "source": [
    "def adjust_x(key):\n",
    "    #key = z['Cell1 Sample_Xtile_Ytile'].to_list()[0]\n",
    "    x = int(key.split('_')[1].split('X')[1])\n",
    "    #y = int(key.split('_')[2].split('Y')[1])\n",
    "    adjustment = x_adjustments[x]\n",
    "    return adjustment\n",
    "\n",
    "def adjust_y(key):\n",
    "    #key = z['Cell1 Sample_Xtile_Ytile'].to_list()[0]\n",
    "    #x = int(key.split('_')[1].split('X')[1])\n",
    "    y = int(key.split('_')[2].split('Y')[1])\n",
    "    adjustment = y_adjustments[y]\n",
    "    return adjustment\n",
    "\n",
    "def make_identifier(df):\n",
    "    str_id = df.apply(lambda x: '_'.join(map(str, x)), axis=1)\n",
    "    return str_id\n"
   ]
  },
  {
   "cell_type": "code",
   "execution_count": 5,
   "metadata": {},
   "outputs": [
    {
     "data": {
      "text/html": [
       "<div>\n",
       "<style scoped>\n",
       "    .dataframe tbody tr th:only-of-type {\n",
       "        vertical-align: middle;\n",
       "    }\n",
       "\n",
       "    .dataframe tbody tr th {\n",
       "        vertical-align: top;\n",
       "    }\n",
       "\n",
       "    .dataframe thead th {\n",
       "        text-align: right;\n",
       "    }\n",
       "</style>\n",
       "<table border=\"1\" class=\"dataframe\">\n",
       "  <thead>\n",
       "    <tr style=\"text-align: right;\">\n",
       "      <th></th>\n",
       "      <th>Cell1 Sample_Xtile_Ytile</th>\n",
       "      <th>X1</th>\n",
       "      <th>Y1</th>\n",
       "      <th>Cell1 Imaging phenotype cluster ID</th>\n",
       "      <th>Cell2 Sample_Xtile_Ytile</th>\n",
       "      <th>X2</th>\n",
       "      <th>Y2</th>\n",
       "      <th>Cell2 Imaging phenotype cluster ID</th>\n",
       "      <th>X1_adjusted</th>\n",
       "      <th>Y1_adjusted</th>\n",
       "      <th>X2_adjusted</th>\n",
       "      <th>Y2_adjusted</th>\n",
       "      <th>source_cell_ID</th>\n",
       "      <th>sink_cell_ID</th>\n",
       "      <th>source_id</th>\n",
       "      <th>sink_id</th>\n",
       "    </tr>\n",
       "  </thead>\n",
       "  <tbody>\n",
       "    <tr>\n",
       "      <th>4310493</th>\n",
       "      <td>MRL-5_X04_Y09</td>\n",
       "      <td>550</td>\n",
       "      <td>471</td>\n",
       "      <td>9595</td>\n",
       "      <td>MRL-5_X04_Y09</td>\n",
       "      <td>509</td>\n",
       "      <td>464</td>\n",
       "      <td>9613</td>\n",
       "      <td>4569</td>\n",
       "      <td>8506</td>\n",
       "      <td>4528</td>\n",
       "      <td>8499</td>\n",
       "      <td>4569_8506</td>\n",
       "      <td>4528_8499</td>\n",
       "      <td>315254</td>\n",
       "      <td>311576</td>\n",
       "    </tr>\n",
       "    <tr>\n",
       "      <th>4310494</th>\n",
       "      <td>MRL-5_X04_Y09</td>\n",
       "      <td>232</td>\n",
       "      <td>614</td>\n",
       "      <td>9613</td>\n",
       "      <td>MRL-5_X04_Y09</td>\n",
       "      <td>201</td>\n",
       "      <td>600</td>\n",
       "      <td>9613</td>\n",
       "      <td>4251</td>\n",
       "      <td>8649</td>\n",
       "      <td>4220</td>\n",
       "      <td>8635</td>\n",
       "      <td>4251_8649</td>\n",
       "      <td>4220_8635</td>\n",
       "      <td>286065</td>\n",
       "      <td>283258</td>\n",
       "    </tr>\n",
       "    <tr>\n",
       "      <th>4310495</th>\n",
       "      <td>MRL-5_X04_Y09</td>\n",
       "      <td>236</td>\n",
       "      <td>624</td>\n",
       "      <td>9596</td>\n",
       "      <td>MRL-5_X04_Y09</td>\n",
       "      <td>247</td>\n",
       "      <td>639</td>\n",
       "      <td>9613</td>\n",
       "      <td>4255</td>\n",
       "      <td>8659</td>\n",
       "      <td>4266</td>\n",
       "      <td>8674</td>\n",
       "      <td>4255_8659</td>\n",
       "      <td>4266_8674</td>\n",
       "      <td>286393</td>\n",
       "      <td>287387</td>\n",
       "    </tr>\n",
       "    <tr>\n",
       "      <th>4310496</th>\n",
       "      <td>MRL-5_X04_Y09</td>\n",
       "      <td>973</td>\n",
       "      <td>980</td>\n",
       "      <td>9619</td>\n",
       "      <td>MRL-5_X04_Y09</td>\n",
       "      <td>1024</td>\n",
       "      <td>972</td>\n",
       "      <td>9619</td>\n",
       "      <td>4992</td>\n",
       "      <td>9015</td>\n",
       "      <td>5043</td>\n",
       "      <td>9007</td>\n",
       "      <td>4992_9015</td>\n",
       "      <td>5043_9007</td>\n",
       "      <td>354507</td>\n",
       "      <td>359312</td>\n",
       "    </tr>\n",
       "    <tr>\n",
       "      <th>4310497</th>\n",
       "      <td>MRL-5_X04_Y09</td>\n",
       "      <td>550</td>\n",
       "      <td>471</td>\n",
       "      <td>9595</td>\n",
       "      <td>MRL-5_X04_Y09</td>\n",
       "      <td>542</td>\n",
       "      <td>443</td>\n",
       "      <td>9613</td>\n",
       "      <td>4569</td>\n",
       "      <td>8506</td>\n",
       "      <td>4561</td>\n",
       "      <td>8478</td>\n",
       "      <td>4569_8506</td>\n",
       "      <td>4561_8478</td>\n",
       "      <td>315254</td>\n",
       "      <td>314592</td>\n",
       "    </tr>\n",
       "  </tbody>\n",
       "</table>\n",
       "</div>"
      ],
      "text/plain": [
       "        Cell1 Sample_Xtile_Ytile   X1   Y1  \\\n",
       "4310493            MRL-5_X04_Y09  550  471   \n",
       "4310494            MRL-5_X04_Y09  232  614   \n",
       "4310495            MRL-5_X04_Y09  236  624   \n",
       "4310496            MRL-5_X04_Y09  973  980   \n",
       "4310497            MRL-5_X04_Y09  550  471   \n",
       "\n",
       "         Cell1 Imaging phenotype cluster ID Cell2 Sample_Xtile_Ytile    X2  \\\n",
       "4310493                                9595            MRL-5_X04_Y09   509   \n",
       "4310494                                9613            MRL-5_X04_Y09   201   \n",
       "4310495                                9596            MRL-5_X04_Y09   247   \n",
       "4310496                                9619            MRL-5_X04_Y09  1024   \n",
       "4310497                                9595            MRL-5_X04_Y09   542   \n",
       "\n",
       "          Y2  Cell2 Imaging phenotype cluster ID  X1_adjusted  Y1_adjusted  \\\n",
       "4310493  464                                9613         4569         8506   \n",
       "4310494  600                                9613         4251         8649   \n",
       "4310495  639                                9613         4255         8659   \n",
       "4310496  972                                9619         4992         9015   \n",
       "4310497  443                                9613         4569         8506   \n",
       "\n",
       "         X2_adjusted  Y2_adjusted source_cell_ID sink_cell_ID  source_id  \\\n",
       "4310493         4528         8499      4569_8506    4528_8499     315254   \n",
       "4310494         4220         8635      4251_8649    4220_8635     286065   \n",
       "4310495         4266         8674      4255_8659    4266_8674     286393   \n",
       "4310496         5043         9007      4992_9015    5043_9007     354507   \n",
       "4310497         4561         8478      4569_8506    4561_8478     315254   \n",
       "\n",
       "         sink_id  \n",
       "4310493   311576  \n",
       "4310494   283258  \n",
       "4310495   287387  \n",
       "4310496   359312  \n",
       "4310497   314592  "
      ]
     },
     "execution_count": 5,
     "metadata": {},
     "output_type": "execute_result"
    }
   ],
   "source": [
    "df['X1_adjusted'] = df['X1'] + df['Cell1 Sample_Xtile_Ytile'].apply(adjust_x)\n",
    "df['Y1_adjusted'] = df['Y1'] + df['Cell1 Sample_Xtile_Ytile'].apply(adjust_y)\n",
    "\n",
    "df['X2_adjusted'] = df['X2'] + df['Cell2 Sample_Xtile_Ytile'].apply(adjust_x)\n",
    "df['Y2_adjusted'] = df['Y2'] + df['Cell2 Sample_Xtile_Ytile'].apply(adjust_y)\n",
    "\n",
    "source = df['Cell1 Imaging phenotype cluster ID'].tolist()\n",
    "sink = df['Cell2 Imaging phenotype cluster ID'].tolist()\n",
    "\n",
    "source_x_positions = df['X1_adjusted'].tolist()\n",
    "source_y_positions = df['Y1_adjusted'].tolist()\n",
    "sink_x_positions = df['X2_adjusted'].tolist()\n",
    "sink_y_positions = df['Y2_adjusted'].tolist()\n",
    "\n",
    "df['source_cell_ID'] = make_identifier(df[['X1_adjusted','Y1_adjusted']])\n",
    "df['sink_cell_ID'] = make_identifier(df[['X2_adjusted','Y2_adjusted']])\n",
    "\n",
    "source_id = df['source_cell_ID'].tolist()\n",
    "sink_id = df['sink_cell_ID'].tolist()\n",
    "unique_ids = np.unique(source_id)\n",
    "new_ID = [i for i in range(0, len(unique_ids))]\n",
    "new_id_dict = dict(zip(unique_ids, new_ID))\n",
    "df['source_id'] = df['source_cell_ID'].map(new_id_dict)\n",
    "df['sink_id'] = df['sink_cell_ID'].map(new_id_dict)\n",
    "df.tail()"
   ]
  },
  {
   "cell_type": "markdown",
   "metadata": {},
   "source": [
    "### Add type info"
   ]
  },
  {
   "cell_type": "code",
   "execution_count": 8,
   "metadata": {},
   "outputs": [],
   "source": [
    "clusters = pd.read_csv(\"/Users/ethan/Dropbox (MIT)/Lab/spatial-data-generation_brokengit/circle_packing/spleen_data/cluster_labels.csv\", header = 0)\n",
    "\n",
    "cluster_labels = clusters['Imaging phenotype (cell type)'].unique()\n",
    "cluster_label_ID = [i for i in range(0,len(cluster_labels))]\n",
    "cluster_dict = dict(zip(cluster_labels, cluster_label_ID))\n",
    "\n",
    "clusters['cluster_id'] = clusters['Imaging phenotype (cell type)'].map(cluster_dict)\n",
    "\n",
    "xshift = clusters['X-shift cluster ID'].tolist()\n",
    "cluster_id = clusters['cluster_id'].tolist()\n",
    "xshift_cluster_dict = dict(zip(xshift, cluster_id))"
   ]
  },
  {
   "cell_type": "code",
   "execution_count": 9,
   "metadata": {},
   "outputs": [
    {
     "name": "stderr",
     "output_type": "stream",
     "text": [
      "/Users/ethan/miniconda3/envs/spleen/lib/python3.7/site-packages/ipykernel_launcher.py:2: SettingWithCopyWarning: \n",
      "A value is trying to be set on a copy of a slice from a DataFrame.\n",
      "Try using .loc[row_indexer,col_indexer] = value instead\n",
      "\n",
      "See the caveats in the documentation: https://pandas.pydata.org/pandas-docs/stable/user_guide/indexing.html#returning-a-view-versus-a-copy\n",
      "  \n"
     ]
    }
   ],
   "source": [
    "df2 = df.drop_duplicates(subset=['source_id'])\n",
    "df2['cell_type'] = df2['Cell1 Imaging phenotype cluster ID'].map(xshift_cluster_dict)\n",
    "cell_id_type_dict = dict(zip(df2['source_id'].tolist(), df2['cell_type'].tolist()))"
   ]
  },
  {
   "cell_type": "code",
   "execution_count": 10,
   "metadata": {},
   "outputs": [],
   "source": [
    "df2_nodirt = df2.drop(df2[df2['cell_type'] == 6].index)\n",
    "df3 = df2_nodirt[df2_nodirt['Cell1 Sample_Xtile_Ytile'].isin(tile_names)]"
   ]
  },
  {
   "cell_type": "markdown",
   "metadata": {},
   "source": [
    "## Build a graph"
   ]
  },
  {
   "cell_type": "code",
   "execution_count": 11,
   "metadata": {},
   "outputs": [],
   "source": [
    "pos = []\n",
    "for i in df3.index.tolist():\n",
    "    x = df3.loc[i, 'X1_adjusted']\n",
    "    y = df3.loc[i, 'Y1_adjusted']\n",
    "    p = [x, y]\n",
    "    pos.append(p)\n",
    "\n",
    "position_dict = dict(zip(df3['source_id'].tolist(),pos))"
   ]
  },
  {
   "cell_type": "code",
   "execution_count": 12,
   "metadata": {},
   "outputs": [],
   "source": [
    "edgelist = []\n",
    "for i in df.index.tolist():\n",
    "    source = df.loc[i, \"source_id\"]\n",
    "    sink = df.loc[i, \"sink_id\"]\n",
    "    edgelist.append((source, sink))\n",
    "\n",
    "G = nx.from_edgelist(edgelist)\n",
    "nx.set_node_attributes(G, cell_id_type_dict, 'cell_type')"
   ]
  },
  {
   "cell_type": "code",
   "execution_count": 13,
   "metadata": {},
   "outputs": [
    {
     "name": "stderr",
     "output_type": "stream",
     "text": [
      "/Users/ethan/miniconda3/envs/spleen/lib/python3.7/site-packages/ipykernel_launcher.py:11: SettingWithCopyWarning: \n",
      "A value is trying to be set on a copy of a slice from a DataFrame.\n",
      "Try using .loc[row_indexer,col_indexer] = value instead\n",
      "\n",
      "See the caveats in the documentation: https://pandas.pydata.org/pandas-docs/stable/user_guide/indexing.html#returning-a-view-versus-a-copy\n",
      "  # This is added back by InteractiveShellApp.init_path()\n"
     ]
    }
   ],
   "source": [
    "new_types = []\n",
    "typelist = np.array(df3['cell_type'])\n",
    "for t in typelist:\n",
    "    if t == 16:\n",
    "        new_types.append(1)\n",
    "    elif t == 14:\n",
    "        new_types.append(2)\n",
    "    else:\n",
    "        new_types.append(0)\n",
    "\n",
    "df3['newtype'] = new_types"
   ]
  },
  {
   "cell_type": "markdown",
   "metadata": {},
   "source": [
    "## Spatial Analysis"
   ]
  },
  {
   "cell_type": "code",
   "execution_count": 14,
   "metadata": {},
   "outputs": [],
   "source": [
    "import datetime\n",
    "import scipy.sparse as sparse\n",
    "import spatialpower.neighborhoods.permutationtest as perm_test\n",
    "import multiprocessing as mp\n",
    "from datetime import datetime\n",
    "import errno\n",
    "from joblib import Parallel, delayed\n",
    "import os\n",
    "from glob import glob"
   ]
  },
  {
   "cell_type": "code",
   "execution_count": 15,
   "metadata": {},
   "outputs": [],
   "source": [
    "def build_assignment_matrix(attribute_dict, n_cell_types):\n",
    "    data = list(attribute_dict.items())\n",
    "    data = np.array(data)  # Assignment matrix\n",
    "\n",
    "    B = np.zeros((data.shape[0], n_cell_types))  # Empty matrix\n",
    "\n",
    "    for i in range(0, data.shape[0]):\n",
    "        t = data[i, 1]\n",
    "        B[i, int(t)] = 1\n",
    "\n",
    "    return B\n",
    "\n",
    "def run_test(results_path, A, B, H_gt, size, n_jobs, trials, plot, graph, graph_id, threshold):\n",
    "    '''\n",
    "    Runs the permutation test, and calculates signficant interaction pairs.\n",
    "\n",
    "    Parameters\n",
    "    ----------\n",
    "        results_path: str, the root results dir\n",
    "        size : int, size of graph to calculate.\n",
    "        n_jobs: int, number of parallel jobs to spawn\n",
    "        trials: int, number of shuffles in empirical distribution\n",
    "        plot : bool, generate histogram of each pairwise relation if True.\n",
    "\n",
    "    Returns\n",
    "    -------\n",
    "        None\n",
    "    '''\n",
    "    # Make results dir\n",
    "    try:\n",
    "        os.mkdir(results_path)\n",
    "    except OSError as exc:\n",
    "        if exc.errno != errno.EEXIST:\n",
    "            raise\n",
    "        pass\n",
    "\n",
    "    # Perform calculations.\n",
    "    results = []\n",
    "    if graph_id == None:\n",
    "        out_dir = results_path + str(size) + '_cells/'\n",
    "    else:\n",
    "        out_dir = results_path + str(size) + '_cells_' + str(graph_id) + '/'\n",
    "\n",
    "    try:\n",
    "        os.mkdir(out_dir)\n",
    "    except OSError as exc:\n",
    "        if exc.errno != errno.EEXIST:\n",
    "            raise\n",
    "        pass\n",
    "    \n",
    "    n_cell_types = B.shape[1]\n",
    "    args = (A, B, size, graph, n_cell_types)\n",
    "    arg_list = [args for i in range(0, trials)]\n",
    "    results = Parallel(n_jobs=n_jobs, verbose=1, backend=\"sequential\")(\n",
    "        delayed(perm_test.permutation_test_trial_wrapper)(args) for args in arg_list)\n",
    "    #parse_results(results, size, out_dir)\n",
    "\n",
    "    # Process results\n",
    "\n",
    "    '''# size_list = []\n",
    "    result_list = []\n",
    "\n",
    "    file_list = glob(out_dir + '*.npy')\n",
    "    for f in file_list:\n",
    "        arr = np.load(f)\n",
    "        # size_list.append(size)\n",
    "        result_list.append(arr)'''\n",
    "\n",
    "    arr = np.dstack(results)  # stack into a 3-D array\n",
    "    n_types = arr.shape[0]\n",
    "\n",
    "    enriched_pairs = []\n",
    "    depleted_pairs = []\n",
    "\n",
    "    for i in range(0, n_types):\n",
    "        for j in range(0, n_types):\n",
    "            ground_truth_score = H_gt[i, j]\n",
    "            emp_dist = arr[i, j, :]\n",
    "            indices, = np.where(emp_dist < ground_truth_score)\n",
    "            p = (len(emp_dist) - len(indices) + 1) / (len(emp_dist) + 1)\n",
    "            if p <= threshold:\n",
    "                enriched_pairs.append([i, j, p])\n",
    "            elif p >= 1 - threshold:\n",
    "                depleted_pairs.append([i, j, p])\n",
    "\n",
    "            # Visualize empirical distribution\n",
    "            if plot == True:\n",
    "                plt.clf()\n",
    "                # sns.set(style = 'white')\n",
    "                plt.hist(arr[2, 2, :], color='k')\n",
    "                plt.xlim(0, 1)\n",
    "                plt.xlabel(\"Probability of Interaction between \" + str(i) + \" and \" + str(j))\n",
    "                plt.ylabel(\"Count\")\n",
    "                plt.savefig(out_dir + \"distplot_\" + str(i) + \"_\" + str(j) + \".pdf\")\n",
    "\n",
    "    # Write results matrix.\n",
    "    np.save(out_dir + \"enriched_pairs.npy\", np.array(enriched_pairs))\n",
    "    np.save(out_dir + \"depleted_pairs.npy\", np.array(depleted_pairs))\n",
    "\n",
    "    return\n",
    "\n",
    "def run_test_nosave(A, B, H_gt, size, n_jobs, trials, graph, threshold, out_dir=None):\n",
    "    '''\n",
    "    Runs the permutation test, and calculates signficant interaction pairs.\n",
    "\n",
    "    Parameters\n",
    "    ----------\n",
    "        size : int, size of graph to calculate.\n",
    "        n_jobs: int, number of parallel jobs to spawn\n",
    "        trials: int, number of shuffles in empirical distribution\n",
    "        plot : bool, generate histogram of each pairwise relation if True.  \n",
    "\n",
    "    Returns\n",
    "    -------\n",
    "        enriched_pairs  :   array-like\n",
    "        depleted_pairs  :   array-like\n",
    "    '''\n",
    "   \n",
    "    n_cell_types = B.shape[1]\n",
    "    args = (A, B, size, graph, n_cell_types)\n",
    "    arg_list = [args for i in range(0, trials)]\n",
    "    results = Parallel(n_jobs=n_jobs, verbose=0, backend=\"sequential\")(\n",
    "        delayed(perm_test.permutation_test_trial_wrapper)(args) for args in arg_list)\n",
    "    #parse_results(results, size, out_dir)\n",
    "\n",
    "    arr = np.dstack(results)  # stack into a 3-D array\n",
    "    n_types = arr.shape[0]\n",
    "\n",
    "    enriched_pairs = []\n",
    "    depleted_pairs = []\n",
    "\n",
    "    for i in range(0, n_types):\n",
    "        for j in range(0, n_types):\n",
    "            ground_truth_score = H_gt[i, j]\n",
    "            emp_dist = arr[i, j, :]\n",
    "            indices, = np.where(emp_dist < ground_truth_score)\n",
    "            p = (len(emp_dist) - len(indices) + 1) / (len(emp_dist) + 1)\n",
    "            if p <= threshold:\n",
    "                enriched_pairs.append([i, j, p])\n",
    "            elif p >= 1 - threshold:\n",
    "                depleted_pairs.append([i, j, p])\n",
    "\n",
    "    # Write results matrix.\n",
    "    #np.save(out_dir + \"enriched_pairs.npy\", np.array(enriched_pairs))\n",
    "    #np.save(out_dir + \"depleted_pairs.npy\", np.array(depleted_pairs))\n",
    "\n",
    "    return enriched_pairs, depleted_pairs"
   ]
  },
  {
   "cell_type": "code",
   "execution_count": 16,
   "metadata": {},
   "outputs": [],
   "source": [
    "attribute_dict = dict(zip(df3['source_id'], df3['newtype']))\n",
    "full_graph = G.subgraph(df3['source_id'])"
   ]
  },
  {
   "cell_type": "code",
   "execution_count": 17,
   "metadata": {},
   "outputs": [
    {
     "ename": "NameError",
     "evalue": "name 'B' is not defined",
     "output_type": "error",
     "traceback": [
      "\u001b[0;31m---------------------------------------------------------------------------\u001b[0m",
      "\u001b[0;31mNameError\u001b[0m                                 Traceback (most recent call last)",
      "\u001b[0;32m<ipython-input-17-b0ecc612cb60>\u001b[0m in \u001b[0;36m<module>\u001b[0;34m\u001b[0m\n\u001b[1;32m      1\u001b[0m \u001b[0mA_full\u001b[0m \u001b[0;34m=\u001b[0m \u001b[0mnx\u001b[0m\u001b[0;34m.\u001b[0m\u001b[0mconvert_matrix\u001b[0m\u001b[0;34m.\u001b[0m\u001b[0mto_scipy_sparse_matrix\u001b[0m\u001b[0;34m(\u001b[0m\u001b[0mfull_graph\u001b[0m\u001b[0;34m)\u001b[0m\u001b[0;34m\u001b[0m\u001b[0;34m\u001b[0m\u001b[0m\n\u001b[1;32m      2\u001b[0m \u001b[0mB_full\u001b[0m \u001b[0;34m=\u001b[0m \u001b[0mbuild_assignment_matrix\u001b[0m\u001b[0;34m(\u001b[0m\u001b[0mattribute_dict\u001b[0m\u001b[0;34m,\u001b[0m \u001b[0;36m3\u001b[0m\u001b[0;34m)\u001b[0m\u001b[0;34m\u001b[0m\u001b[0;34m\u001b[0m\u001b[0m\n\u001b[0;32m----> 3\u001b[0;31m \u001b[0mp\u001b[0m \u001b[0;34m=\u001b[0m \u001b[0mnp\u001b[0m\u001b[0;34m.\u001b[0m\u001b[0mdivide\u001b[0m\u001b[0;34m(\u001b[0m\u001b[0mnp\u001b[0m\u001b[0;34m.\u001b[0m\u001b[0msum\u001b[0m\u001b[0;34m(\u001b[0m\u001b[0mB\u001b[0m\u001b[0;34m,\u001b[0m \u001b[0maxis\u001b[0m\u001b[0;34m=\u001b[0m\u001b[0;36m0\u001b[0m\u001b[0;34m)\u001b[0m\u001b[0;34m,\u001b[0m \u001b[0mA\u001b[0m\u001b[0;34m.\u001b[0m\u001b[0mshape\u001b[0m\u001b[0;34m[\u001b[0m\u001b[0;36m0\u001b[0m\u001b[0;34m]\u001b[0m\u001b[0;34m)\u001b[0m\u001b[0;34m\u001b[0m\u001b[0;34m\u001b[0m\u001b[0m\n\u001b[0m\u001b[1;32m      4\u001b[0m \u001b[0mH\u001b[0m \u001b[0;34m=\u001b[0m \u001b[0mperm_test\u001b[0m\u001b[0;34m.\u001b[0m\u001b[0mcalculate_neighborhood_distribution_sparse\u001b[0m\u001b[0;34m(\u001b[0m\u001b[0mA\u001b[0m\u001b[0;34m,\u001b[0m \u001b[0mB\u001b[0m\u001b[0;34m)\u001b[0m\u001b[0;34m\u001b[0m\u001b[0;34m\u001b[0m\u001b[0m\n",
      "\u001b[0;31mNameError\u001b[0m: name 'B' is not defined"
     ]
    }
   ],
   "source": [
    "A_full = nx.convert_matrix.to_scipy_sparse_matrix(full_graph)\n",
    "B_full = build_assignment_matrix(attribute_dict, 3)\n",
    "p = np.divide(np.sum(B, axis=0), A.shape[0])\n",
    "H = perm_test.calculate_neighborhood_distribution_sparse(A, B)"
   ]
  },
  {
   "cell_type": "markdown",
   "metadata": {},
   "source": [
    "## Disrupt CD4/CD8 Interaction by swapping CD4 cells to null type (e.g. moving in graph to preserve frequencies)"
   ]
  },
  {
   "cell_type": "code",
   "execution_count": 18,
   "metadata": {},
   "outputs": [
    {
     "name": "stderr",
     "output_type": "stream",
     "text": [
      "100%|██████████| 81964/81964 [00:56<00:00, 1445.44it/s]\n",
      "100%|██████████| 81964/81964 [05:38<00:00, 241.79it/s]\n"
     ]
    }
   ],
   "source": [
    "#type 14 --> type 16\n",
    "\n",
    "from tqdm import trange\n",
    "\n",
    "\n",
    "AB = A_full @ B_full\n",
    "C = B_full.T @ AB\n",
    "\n",
    "cd4_cells = list(df3[df3['newtype']==2].index)\n",
    "n_cd4 = len(cd4_cells)\n",
    "#n_to_change = int(np.floor(C[1,2]*frac_to_change))\n",
    "\n",
    "cd4_cell_idx = []\n",
    "df3idx = np.array(df3.index, dtype=int)\n",
    "\n",
    "for i in trange(0, len(df3idx)):\n",
    "    if df3idx[i] in cd4_cells:\n",
    "        cd4_cell_idx.append(i)\n",
    "\n",
    "cd4_cell_idx = np.array(cd4_cell_idx)\n",
    "\n",
    "idx, = np.where(AB[cd4_cell_idx,1] > 0)\n",
    "cd4_cells_with_cd8_nbr = cd4_cell_idx[idx] # these are the indexes for A/B/AB not the df \n",
    "# Now find generic-generic pairs to send them to\n",
    "generic_cells = list(df3[df3['newtype']==0].index)\n",
    "generic_cell_idx = []\n",
    "\n",
    "for i in trange(0, len(df3idx)):\n",
    "    if df3idx[i] in generic_cells:\n",
    "        generic_cell_idx.append(i)\n",
    "\n",
    "generic_cell_idx = np.array(generic_cell_idx)\n",
    "idx, = np.where(AB[generic_cell_idx, 0] == 0)\n",
    "generic_pairs = generic_cell_idx[idx] # these are the indexes for A/B/AB not the df \n",
    "\n"
   ]
  },
  {
   "cell_type": "code",
   "execution_count": 36,
   "metadata": {},
   "outputs": [],
   "source": [
    "frac_to_change = 1\n",
    "n_to_change = int(np.floor(len(cd4_cells_with_cd8_nbr)*frac_to_change))\n",
    "to_swap = np.random.choice(cd4_cell_idx, size = n_to_change, replace=False)\n",
    "\n",
    "if len(generic_pairs) >= n_to_change:\n",
    "    targets = np.random.choice(generic_pairs, size = n_to_change, replace=False)\n",
    "else:\n",
    "    targets = [i for i in generic_pairs]\n",
    "    remainder = n_to_change - len(targets)\n",
    "\n",
    "    while len(targets) < n_to_change:\n",
    "        addtl_target = np.random.choice(generic_cell_idx)\n",
    "        if addtl_target not in targets:\n",
    "            targets.append(addtl_target)\n",
    "\n",
    "targets = np.array(targets)\n",
    "B_full_mod = B_full.copy()\n",
    "\n",
    "B_full_mod[to_swap[:len(targets)], :] = np.array([1, 0, 0]) #CD4 -> Blank\n",
    "B_full_mod[targets, :] = np.array([0, 0, 1]) # Blank -> CD4\n",
    "\n",
    "#np.random.shuffle(B_full_mod)\n",
    "df4 = df3.copy()\n",
    "df4['newtype'] = np.argmax(B_full_mod, axis = 1)"
   ]
  },
  {
   "cell_type": "code",
   "execution_count": 37,
   "metadata": {},
   "outputs": [
    {
     "data": {
      "text/plain": [
       "array([[247970.,  55163.,  28084.],\n",
       "       [ 55163.,  28764.,   8561.],\n",
       "       [ 28084.,   8561.,   3248.]])"
      ]
     },
     "execution_count": 37,
     "metadata": {},
     "output_type": "execute_result"
    }
   ],
   "source": [
    "AB = A_full @ B_full_mod\n",
    "B_full_mod.T @ AB"
   ]
  },
  {
   "cell_type": "markdown",
   "metadata": {},
   "source": [
    "## Draw FOVs from the two samples and perform a permutation test"
   ]
  },
  {
   "cell_type": "code",
   "execution_count": 38,
   "metadata": {},
   "outputs": [],
   "source": [
    "def calculate_FOV_size(sampling_frac, min_x, max_x, min_y, max_y):\n",
    "    area = (max_x - min_x) * (max_y - min_y)\n",
    "    sampling_area = sampling_frac * area\n",
    "    FOV_dim = np.round(np.sqrt(sampling_area))\n",
    "    return FOV_dim\n",
    "\n",
    "def random_FOV(FOV_dim, df, min_x, max_x, min_y, max_y):\n",
    "    x_start = np.random.randint(min_x, max_x - FOV_dim)\n",
    "    y_start = np.random.randint(min_y, max_y - FOV_dim)\n",
    "    \n",
    "    x_filtered = df[(df['X1_adjusted'] > x_start) & (df['X1_adjusted'] < x_start + FOV_dim)]\n",
    "    random_FOV = x_filtered[(x_filtered['Y1_adjusted'] > y_start) & (x_filtered['Y1_adjusted'] < y_start + FOV_dim)]\n",
    "    \n",
    "    return random_FOV\n",
    "    \n",
    "def random_FOV_plot(FOV_dim, df, min_x, max_x, min_y, max_y):\n",
    "    x_start = np.random.randint(min_x, max_x - FOV_dim)\n",
    "    y_start = np.random.randint(min_y, max_y - FOV_dim)\n",
    "    \n",
    "    x_filtered = df[(df['X1_adjusted'] > x_start) & (df['X1_adjusted'] < x_start + FOV_dim)]\n",
    "    random_FOV = x_filtered[(x_filtered['Y1_adjusted'] > y_start) & (x_filtered['Y1_adjusted'] < y_start + FOV_dim)]\n",
    "    \n",
    "    x_coords = [x_start, x_start + FOV_dim]\n",
    "    y_coords = [y_start, y_start + FOV_dim]\n",
    "    return random_FOV, x_coords, y_coords\n",
    "\n",
    "def detect_enrichments(fov, graph, out_dir=None):\n",
    "    \n",
    "    attribute_dict = dict(zip(fov['source_id'], fov['newtype']))\n",
    "    full_graph2 = graph.subgraph(fov['source_id'])\n",
    "    A = nx.convert_matrix.to_scipy_sparse_matrix(full_graph2)\n",
    "    B = build_assignment_matrix(attribute_dict, 3) #IMPORTANT \n",
    "    p = np.divide(np.sum(B, axis=0), A.shape[0])\n",
    "    H = perm_test.calculate_neighborhood_distribution_sparse(A, B)\n",
    "    \n",
    "    #out_dir = './spleen_data/for_paper/full'\n",
    "    now = datetime.now()\n",
    "    datestamp = date_time = now.strftime(\"%m%d%Y\")\n",
    "    results_path = str(out_dir) + '/neighborhood_perm_test_' + str(datestamp) + '/'\n",
    "\n",
    "    enrichment_pairs, avoidance_pairs = run_test_nosave(A, B, H, A.shape[0], n_jobs=-1, trials=250, graph=full_graph2, threshold = 0.01)\n",
    "    return enrichment_pairs\n",
    "\n",
    "def detect_cd4_cd8(enrichment_pairs):\n",
    "    x = False\n",
    "    for i in enrichment_pairs:\n",
    "        if (i[:2] == [1,2]) or (i[:2] == [2,1]):\n",
    "            x = True\n",
    "            break\n",
    "        else:\n",
    "            x = False\n",
    "    \n",
    "    return x\n",
    "\n",
    "def parallel_permutation(fov):\n",
    "    \n",
    "    # Now check which enrichments are signifcant in these FOVs.\n",
    "    enrichment_pairs = detect_enrichments(fov, graph=full_graph)\n",
    "\n",
    "    # Check for the CD4/CD8 interaction specifically in this result and store it . \n",
    "    return detect_cd4_cd8(enrichment_pairs)\n",
    "\n",
    "def construct_input_matrices(fov, graph, n_types=3, out_dir=None):\n",
    "    \n",
    "    attribute_dict = dict(zip(fov['source_id'], fov['newtype']))\n",
    "    full_graph2 = graph.subgraph(fov['source_id'])\n",
    "    A = nx.convert_matrix.to_scipy_sparse_matrix(full_graph2)\n",
    "    B = build_assignment_matrix(attribute_dict, n_types) #IMPORTANT \n",
    "\n",
    "    return A, B"
   ]
  },
  {
   "cell_type": "code",
   "execution_count": 39,
   "metadata": {},
   "outputs": [],
   "source": [
    "min_x = min(df3['X1_adjusted'])\n",
    "max_x = max(df3['X1_adjusted'])\n",
    "min_y = min(df3['Y1_adjusted'])\n",
    "max_y = max(df3['Y1_adjusted'])\n",
    "sampling_frac = 0.1\n",
    "\n",
    "FOV_dim = calculate_FOV_size(sampling_frac, min_x, max_x, min_y, max_y)"
   ]
  },
  {
   "cell_type": "code",
   "execution_count": 40,
   "metadata": {},
   "outputs": [],
   "source": [
    "from tqdm import tqdm, trange\n",
    "n_trials = 1\n",
    "\n",
    "\n",
    "def get_fovs(FOV_dim, df, min_x, max_x, min_y, max_y, n=1000, save_coords = False):\n",
    "    fov_list = []\n",
    "    if save_coords:\n",
    "        x_coord_list = []\n",
    "        y_coord_list = []\n",
    "\n",
    "    for i in trange(0, n): \n",
    "        fov, x_coords, y_coords = random_FOV_plot(FOV_dim, df, min_x, max_x, min_y, max_y)\n",
    "        fov_list.append(fov)\n",
    "\n",
    "        if save_coords:\n",
    "            x_coord_list.append(x_coords)\n",
    "            y_coord_list.append(y_coords)\n",
    "\n",
    "    if save_coords:\n",
    "        return fov_list, x_coord_list, y_coord_list\n",
    "    else:\n",
    "        return fov_list\n",
    "\n"
   ]
  },
  {
   "cell_type": "code",
   "execution_count": 41,
   "metadata": {},
   "outputs": [],
   "source": [
    "def calculate_enrichment_statistic(adj_matrix, ass_matrix, type_a, type_b):\n",
    "    '''\n",
    "    Calculates the probabilities of cell type adjacencies.\n",
    "\n",
    "    Parameters\n",
    "    ----------\n",
    "        adj_matrix: sparse matrix\n",
    "            The N x N adjacency matrix for the graph in scipy sparse format.\n",
    "        ass_matrix: array-like\n",
    "            The assignment matrix, B.\n",
    "        type_a  : int\n",
    "            index of first type in the interaction pair \n",
    "        type_b  : int\n",
    "            index of first type in the interaction pair \n",
    "\n",
    "    Returns\n",
    "    -------\n",
    "        X: float\n",
    "            the interaction enrichment statistic, centered at 0. \n",
    "    '''\n",
    "    A = adj_matrix\n",
    "    B = ass_matrix\n",
    "\n",
    "    AB = A @ B\n",
    "    C = B.T @ AB\n",
    "\n",
    "    E = np.sum(np.sum(A, axis=1))/2 # Number of edges\n",
    "    n = A.shape[0] #Number of cells\n",
    "    i = type_a\n",
    "    j = type_b\n",
    "\n",
    "    f_a = np.sum(B, axis=0)[i]/n #in full graph\n",
    "    f_b = np.sum(B, axis=0)[j]/n\n",
    "\n",
    "    if i != j:\n",
    "        N_ab = C[i,j]\n",
    "    else:\n",
    "        N_ab = C[i,j] / 2 # When i==j, you're on the diagonal and there's a double count.\n",
    "\n",
    "    exp = 2*f_a*f_b*E\n",
    "    if exp == 0:\n",
    "        exp = 1e-6\n",
    "    \n",
    "    X_ab = N_ab/exp - 1\n",
    "    \n",
    "    return X_ab"
   ]
  },
  {
   "cell_type": "code",
   "execution_count": 42,
   "metadata": {},
   "outputs": [],
   "source": [
    "i=1\n",
    "j=2\n",
    "\n",
    "A, B = construct_input_matrices(fov_list[1], graph=full_graph, n_types=3)\n",
    "AB = A @ B\n",
    "C = B.T @ AB\n",
    "\n",
    "E = np.sum(np.sum(A, axis=1))/2 # Number of edges\n",
    "n = A.shape[0] #Number of cells\n",
    "\n",
    "f_a = np.sum(B, axis=0)[i]/n #in full graph\n",
    "f_b = np.sum(B, axis=0)[j]/n\n",
    "\n"
   ]
  },
  {
   "cell_type": "code",
   "execution_count": 43,
   "metadata": {},
   "outputs": [
    {
     "data": {
      "text/plain": [
       "1491.0"
      ]
     },
     "execution_count": 43,
     "metadata": {},
     "output_type": "execute_result"
    }
   ],
   "source": [
    "C[i,j]"
   ]
  },
  {
   "cell_type": "code",
   "execution_count": 44,
   "metadata": {},
   "outputs": [
    {
     "name": "stderr",
     "output_type": "stream",
     "text": [
      "100%|██████████| 500/500 [00:03<00:00, 134.07it/s]\n",
      "100%|██████████| 500/500 [03:22<00:00,  2.47it/s]\n",
      "100%|██████████| 500/500 [00:03<00:00, 131.21it/s]\n",
      "100%|██████████| 500/500 [03:32<00:00,  2.35it/s]\n"
     ]
    }
   ],
   "source": [
    "X1 = []\n",
    "X2 = []\n",
    "n=500\n",
    "\n",
    "fov_list = get_fovs(FOV_dim, df3, min_x, max_x, min_y, max_y, n)\n",
    "\n",
    "for fov in tqdm(fov_list):\n",
    "    A, B = construct_input_matrices(fov, graph=full_graph, n_types=3)\n",
    "    X1.append(calculate_enrichment_statistic(A, B, type_a=1, type_b=2))\n",
    "\n",
    "fov_list = get_fovs(FOV_dim, df4, min_x, max_x, min_y, max_y, n)\n",
    "\n",
    "#\n",
    "attribute_dict = dict(zip(df4['source_id'], df4['newtype']))\n",
    "B_full_mod = build_assignment_matrix(attribute_dict, 3) \n",
    "for fov in tqdm(fov_list):\n",
    "    A, B = construct_input_matrices(fov, graph=full_graph, n_types=3)\n",
    "    X2.append(calculate_enrichment_statistic(A, B, type_a=1, type_b=2))\n"
   ]
  },
  {
   "cell_type": "code",
   "execution_count": 45,
   "metadata": {},
   "outputs": [
    {
     "data": {
      "image/png": "[encoded data removed]",
      "text/plain": [
       "<Figure size 640x480 with 1 Axes>"
      ]
     },
     "metadata": {},
     "output_type": "display_data"
    }
   ],
   "source": [
    "import matplotlib\n",
    "from scipy.stats import norm, sem\n",
    "\n",
    "EXP_NAME = 'IxnEnrichStatDist'\n",
    "EFFECT = 'SmallChange'\n",
    "PLOT_TYPE = 'Distributions'\n",
    "FOV = 'FOV=10%'\n",
    "filename = '_'.join([EXP_NAME, FOV, EFFECT, PLOT_TYPE]) + '.pdf'\n",
    "\n",
    "matplotlib.rcParams.update({'axes.linewidth': 0.25,\n",
    "                            'xtick.major.size': 2,\n",
    "                            'xtick.major.width': 0.25,\n",
    "                            'ytick.major.size': 2,\n",
    "                            'ytick.major.width': 0.25,\n",
    "                            'pdf.fonttype': 42,\n",
    "                            'font.sans-serif': 'Arial'})\n",
    "\n",
    "plt.clf()\n",
    "n = 500\n",
    "mu_orig, std_orig = norm.fit(X1[:n])\n",
    "mu_mod, std_mod = norm.fit(X2[:n])\n",
    "\n",
    "plt.hist(X1[:n], color='c', label='Original', alpha = 0.8, density=True, bins=12 )\n",
    "plt.hist(X2[:n], color='m', label='Modified', alpha = 0.8, density=True,  bins=12)\n",
    "\n",
    "xmin, xmax = plt.xlim()\n",
    "x = np.linspace(xmin, xmax, 100)\n",
    "orig_pdf = norm.pdf(x, mu_orig, std_orig)\n",
    "mod_pdf = norm.pdf(x, mu_mod, std_mod)\n",
    "\n",
    "plt.plot(x, orig_pdf, 'r--', linewidth=2, label='Original PDF')\n",
    "plt.plot(x, mod_pdf, 'k--', linewidth=2, label='Modified PDF')\n",
    "\n",
    "plt.ylabel('Density')\n",
    "plt.xlabel('Interaction enrichment statistic' )\n",
    "plt.legend()\n",
    "\n",
    "#plt.savefig('./cohort_comparison/' + filename)\n",
    "plt.show()"
   ]
  },
  {
   "cell_type": "code",
   "execution_count": 46,
   "metadata": {},
   "outputs": [
    {
     "data": {
      "text/plain": [
       "(2.7512052406381566, 0.002968821449441217)"
      ]
     },
     "execution_count": 46,
     "metadata": {},
     "output_type": "execute_result"
    }
   ],
   "source": [
    "perm_test.perform_z_test(X1, X2)"
   ]
  },
  {
   "cell_type": "code",
   "execution_count": 47,
   "metadata": {},
   "outputs": [],
   "source": [
    "from scipy import stats\n",
    "\n",
    "ns = np.arange(1, 600)\n",
    "X1_bar = np.mean(X1)\n",
    "X2_bar = np.mean(X2)\n",
    "\n",
    "sigma_1 = np.std(X1)\n",
    "sigma_2 = np.std(X2)\n",
    "\n",
    "n_1 = len(X1)\n",
    "n_2 = len(X2)\n",
    "\n",
    "sem_1 = sigma_1/np.sqrt(ns)\n",
    "sem_2 = sigma_2/np.sqrt(ns)\n",
    "\n",
    "z = (np.abs(X1_bar-X2_bar)) / np.sqrt(sem_1 + sem_2)\n",
    "p = 1 - stats.norm.cdf(z)\n",
    "\n"
   ]
  },
  {
   "cell_type": "code",
   "execution_count": 48,
   "metadata": {},
   "outputs": [
    {
     "data": {
      "image/png": "[encoded data removed]",
      "text/plain": [
       "<Figure size 640x480 with 1 Axes>"
      ]
     },
     "metadata": {},
     "output_type": "display_data"
    }
   ],
   "source": [
    "plt.clf()\n",
    "PLOT_TYPE = 'PowerVSampleSize'\n",
    "filename = '_'.join([EXP_NAME, EFFECT, FOV, PLOT_TYPE]) + '.pdf'\n",
    "\n",
    "plt.plot(ns, p)\n",
    "plt.xlabel('FOVs drawn from each tissue')\n",
    "plt.ylabel('p-value')\n",
    "#plt.hlines(0.05, xmin=1, xmax=max(ns), c='r--')\n",
    "#plt.savefig('./cohort_comparison/' + filename)\n",
    "plt.show()"
   ]
  },
  {
   "cell_type": "code",
   "execution_count": 49,
   "metadata": {},
   "outputs": [],
   "source": [
    "effects = np.linspace(0, 1, 500)\n",
    "X1_bar = np.mean(X1)\n",
    "X2 = X1_bar + effects\n",
    "X2_bar = np.mean(X2)\n",
    "\n",
    "sigma_1 = np.std(X1)\n",
    "sigma_2 = np.std(X2)\n",
    "\n",
    "n_1 = len(X1)\n",
    "n_2 = len(X2)\n",
    "\n",
    "sem_1 = sigma_1/np.sqrt(len(X1))\n",
    "sem_2 = sigma_2/np.sqrt(len(X1))\n",
    "\n",
    "z = (np.abs(effects)) / np.sqrt(sem_1 + sem_2)\n",
    "p = 1 - stats.norm.cdf(z)\n"
   ]
  },
  {
   "cell_type": "code",
   "execution_count": 50,
   "metadata": {},
   "outputs": [
    {
     "data": {
      "image/png": "[encoded data removed]",
      "text/plain": [
       "<Figure size 640x480 with 1 Axes>"
      ]
     },
     "metadata": {},
     "output_type": "display_data"
    }
   ],
   "source": [
    "PLOT_TYPE = 'PowerVEffectSize'\n",
    "filename = '_'.join([EXP_NAME, EFFECT, FOV, PLOT_TYPE]) + '.pdf'\n",
    "plt.clf()\n",
    "plt.plot(effects, p)\n",
    "plt.xlabel('Magnitude of Effect')\n",
    "plt.ylabel('p-value')\n",
    "#plt.savefig('./cohort_comparison/' + filename)\n",
    "plt.show()"
   ]
  },
  {
   "cell_type": "code",
   "execution_count": null,
   "metadata": {},
   "outputs": [
    {
     "data": {
      "text/plain": [
       "(3.45944236648, 0.0002706475521578877)"
      ]
     },
     "execution_count": 248,
     "metadata": {},
     "output_type": "execute_result"
    }
   ],
   "source": [
    "perm_test.perform_z_test(X1, X2)"
   ]
  }
 ],
 "metadata": {
  "interpreter": {
   "hash": "ce91c2687726854b6fdbe9657ff11af2d296080a931128654e5cbc69223a0ebf"
  },
  "kernelspec": {
   "display_name": "Python 3.7.11 64-bit ('spleen': conda)",
   "name": "python3"
  },
  "language_info": {
   "codemirror_mode": {
    "name": "ipython",
    "version": 3
   },
   "file_extension": ".py",
   "mimetype": "text/x-python",
   "name": "python",
   "nbconvert_exporter": "python",
   "pygments_lexer": "ipython3",
   "version": "3.7.11"
  },
  "orig_nbformat": 4
 },
 "nbformat": 4,
 "nbformat_minor": 2
}
